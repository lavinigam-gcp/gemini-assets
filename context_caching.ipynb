{
  "cells": [
    {
      "cell_type": "code",
      "execution_count": null,
      "metadata": {
        "id": "ur8xi4C7S06n"
      },
      "outputs": [],
      "source": [
        "# Copyright 2024 Google LLC\n",
        "#\n",
        "# Licensed under the Apache License, Version 2.0 (the \"License\");\n",
        "# you may not use this file except in compliance with the License.\n",
        "# You may obtain a copy of the License at\n",
        "#\n",
        "#     https://www.apache.org/licenses/LICENSE-2.0\n",
        "#\n",
        "# Unless required by applicable law or agreed to in writing, software\n",
        "# distributed under the License is distributed on an \"AS IS\" BASIS,\n",
        "# WITHOUT WARRANTIES OR CONDITIONS OF ANY KIND, either express or implied.\n",
        "# See the License for the specific language governing permissions and\n",
        "# limitations under the License."
      ]
    },
    {
      "cell_type": "markdown",
      "metadata": {
        "id": "JAPoU8Sm5E6e"
      },
      "source": [
        "# Context Caching with the Gemini API\n"
      ]
    },
    {
      "cell_type": "markdown",
      "metadata": {
        "id": "tvgnzT1CKxrO"
      },
      "source": [
        "## Overview\n",
        "\n",
        "### Gemini\n",
        "\n",
        "Gemini is a family of generative AI models developed by Google DeepMind that is designed for multimodal use cases.\n",
        "\n",
        "### Context Caching\n",
        "\n",
        "The Gemini API provides the context caching feature for developers to store frequently used input tokens in a dedicated cache and reference them for subsequent requests, eliminating the need to repeatedly pass the same set of tokens to a model. This feature can help reduce the number of tokens sent to the model, thereby lowering the cost of requests that contain repeat content with high input token counts.\n",
        "\n",
        "### Objectives\n",
        "\n",
        "In this tutorial, you learn how to use the Gemini API context caching feature in Vertex AI.\n",
        "\n",
        "You will complete the following tasks:\n",
        "- Create a context cache\n",
        "- Retrieve and use a context cache\n",
        "- Use context caching in Chat\n",
        "- Update the expire time of a context cache\n",
        "- Delete a context cache\n"
      ]
    },
    {
      "cell_type": "markdown",
      "metadata": {
        "id": "61RBz8LLbxCR"
      },
      "source": [
        "## Get started"
      ]
    },
    {
      "cell_type": "markdown",
      "metadata": {
        "id": "No17Cw5hgx12"
      },
      "source": [
        "### Install Vertex AI SDK and other required packages\n"
      ]
    },
    {
      "cell_type": "code",
      "execution_count": 1,
      "metadata": {
        "id": "tFy3H3aPgx12",
        "colab": {
          "base_uri": "https://localhost:8080/"
        },
        "outputId": "9c407d20-db9f-4955-a8c1-c2ec0f7484e6"
      },
      "outputs": [
        {
          "output_type": "stream",
          "name": "stdout",
          "text": [
            "\u001b[2K   \u001b[90m━━━━━━━━━━━━━━━━━━━━━━━━━━━━━━━━━━━━━━━━\u001b[0m \u001b[32m5.2/5.2 MB\u001b[0m \u001b[31m14.7 MB/s\u001b[0m eta \u001b[36m0:00:00\u001b[0m\n",
            "\u001b[?25h\u001b[33m  WARNING: The script tb-gcp-uploader is installed in '/root/.local/bin' which is not on PATH.\n",
            "  Consider adding this directory to PATH or, if you prefer to suppress this warning, use --no-warn-script-location.\u001b[0m\u001b[33m\n",
            "\u001b[2K   \u001b[90m━━━━━━━━━━━━━━━━━━━━━━━━━━━━━━━━━━━━━━━━\u001b[0m \u001b[32m232.6/232.6 kB\u001b[0m \u001b[31m6.1 MB/s\u001b[0m eta \u001b[36m0:00:00\u001b[0m\n",
            "\u001b[?25h"
          ]
        }
      ],
      "source": [
        "%pip install --upgrade --user --quiet google-cloud-aiplatform\n",
        "%pip install --upgrade --user --quiet PyPDF2"
      ]
    },
    {
      "cell_type": "markdown",
      "metadata": {
        "id": "R5Xep4W9lq-Z"
      },
      "source": [
        "### Restart runtime\n",
        "\n",
        "To use the newly installed packages in this Jupyter runtime, you must restart the runtime. You can do this by running the cell below, which restarts the current kernel.\n",
        "\n",
        "The restart might take a minute or longer. After it's restarted, continue to the next step."
      ]
    },
    {
      "cell_type": "code",
      "execution_count": 2,
      "metadata": {
        "id": "XRvKdaPDTznN",
        "colab": {
          "base_uri": "https://localhost:8080/"
        },
        "outputId": "0a2d7544-e751-4fa2-81a5-39b7d48b78fd"
      },
      "outputs": [
        {
          "output_type": "execute_result",
          "data": {
            "text/plain": [
              "{'status': 'ok', 'restart': True}"
            ]
          },
          "metadata": {},
          "execution_count": 2
        }
      ],
      "source": [
        "import IPython\n",
        "\n",
        "app = IPython.Application.instance()\n",
        "app.kernel.do_shutdown(True)"
      ]
    },
    {
      "cell_type": "markdown",
      "metadata": {
        "id": "SbmM4z7FOBpM"
      },
      "source": [
        "<div class=\"alert alert-block alert-warning\">\n",
        "<b>⚠️ The kernel is going to restart. Wait until it's finished before continuing to the next step. ⚠️</b>\n",
        "</div>\n"
      ]
    },
    {
      "cell_type": "markdown",
      "metadata": {
        "id": "dmWOrTJ3gx13"
      },
      "source": [
        "### Authenticate your notebook environment (Colab only)\n",
        "\n",
        "If you're running this notebook on Google Colab, run the cell below to authenticate your environment."
      ]
    },
    {
      "cell_type": "code",
      "execution_count": 1,
      "metadata": {
        "id": "NyKGtVQjgx13"
      },
      "outputs": [],
      "source": [
        "import sys\n",
        "\n",
        "if \"google.colab\" in sys.modules:\n",
        "    from google.colab import auth\n",
        "\n",
        "    auth.authenticate_user()"
      ]
    },
    {
      "cell_type": "markdown",
      "metadata": {
        "id": "DF4l8DTdWgPY"
      },
      "source": [
        "### Set Google Cloud project information and initialize Vertex AI SDK\n",
        "\n",
        "To get started using Vertex AI, you must have an existing Google Cloud project and [enable the Vertex AI API](https://console.cloud.google.com/flows/enableapi?apiid=aiplatform.googleapis.com).\n",
        "\n",
        "Learn more about [setting up a project and a development environment](https://cloud.google.com/vertex-ai/docs/start/cloud-environment)."
      ]
    },
    {
      "cell_type": "code",
      "execution_count": 2,
      "metadata": {
        "id": "Nqwi-5ufWp_B"
      },
      "outputs": [],
      "source": [
        "PROJECT_ID = \"\"  # @param {type:\"string\"}\n",
        "LOCATION = \"us-central1\"  # @param {type:\"string\"}\n",
        "\n",
        "import vertexai\n",
        "\n",
        "vertexai.init(project=PROJECT_ID, location=LOCATION)"
      ]
    },
    {
      "cell_type": "markdown",
      "metadata": {
        "id": "EdvJRUWRNGHE"
      },
      "source": [
        "## Code Examples"
      ]
    },
    {
      "cell_type": "markdown",
      "metadata": {
        "id": "vHwJCyNF6u0O"
      },
      "source": [
        "### Import libraries"
      ]
    },
    {
      "cell_type": "code",
      "execution_count": 22,
      "metadata": {
        "id": "mginH0QC6u0O"
      },
      "outputs": [],
      "source": [
        "import IPython.display\n",
        "from IPython.core.interactiveshell import InteractiveShell\n",
        "\n",
        "InteractiveShell.ast_node_interactivity = \"all\"\n",
        "\n",
        "from vertexai.generative_models import (\n",
        "    GenerationConfig,\n",
        "    GenerativeModel,\n",
        "    HarmBlockThreshold,\n",
        "    HarmCategory,\n",
        "    Part,\n",
        ")\n",
        "import pandas as pd\n",
        "from rich.markdown import Markdown as rich_Markdown\n",
        "from rich import print as rich_print\n",
        "import pickle\n",
        "from IPython.display import display, Markdown, HTML\n",
        "import logging\n",
        "import nest_asyncio\n",
        "import warnings\n",
        "import datetime\n",
        "\n",
        "import vertexai\n",
        "from vertexai.generative_models import Part\n",
        "from vertexai.preview import caching\n",
        "from vertexai.preview.generative_models import GenerativeModel"
      ]
    },
    {
      "cell_type": "markdown",
      "metadata": {
        "id": "PAGPrpYagu2z"
      },
      "source": [
        "### Create a context cache\n",
        "\n",
        "**Note**: Context caching is only available for stable models with fixed versions (for example, `gemini-1.5-pro-001`). You must include the version postfix (for example, the `-001` in `gemini-1.5-pro-001`).\n",
        "\n",
        "For more information, see [Available Gemini stable model versions](https://cloud.google.com/vertex-ai/generative-ai/docs/learn/model-versioning#stable-versions-available).\n"
      ]
    },
    {
      "cell_type": "code",
      "execution_count": 4,
      "metadata": {
        "id": "XdpfXqpJ-NNj"
      },
      "outputs": [],
      "source": [
        "MODEL_ID = \"gemini-1.5-pro-001\"  # @param {type:\"string\"}"
      ]
    },
    {
      "cell_type": "markdown",
      "metadata": {
        "id": "appJ7LCc_YCW"
      },
      "source": [
        "Context caching is particularly well suited to scenarios where a substantial initial context is referenced repeatedly by shorter requests.\n",
        "\n",
        "- Cached content can be any of the MIME types supported by Gemini multimodal models. For example, you can cache a large amount of text, audio, or video. **Note**: The minimum size of a context cache is 32,769 tokens.\n",
        "- The default expiration time of a context cache is 60 minutes. You can specify a different expiration time using the `ttl` (time to live) or the `expire_time` property.\n",
        "\n",
        "This example shows how to create a context cache using two large research papers stored in a Cloud Storage bucket, and set the `ttl` to 60 minutes.\n",
        "\n",
        "- Paper 1: [Gemini: A Family of Highly Capable Multimodal Models](https://arxiv.org/abs/2312.11805)\n",
        "- Paper 2: [Gemini 1.5: Unlocking multimodal understanding across millions of tokens of context](https://arxiv.org/abs/2403.05530)\n"
      ]
    },
    {
      "cell_type": "code",
      "execution_count": 5,
      "metadata": {
        "id": "UmJA6AvVujyZ"
      },
      "outputs": [],
      "source": [
        "system_instruction = \"\"\"\n",
        "You are an expert researcher who has years of experience in conducting systematic literature surveys and meta-analyses of different topics.\n",
        "You pride yourself on incredible accuracy and attention to detail. You always stick to the facts in the sources provided, and never make up new facts.\n",
        "Now look at the research paper below, and answer the following questions in 1-2 sentences.\n",
        "\"\"\"\n",
        "\n",
        "contents = [\n",
        "    Part.from_uri(\n",
        "        \"gs://cloud-samples-data/generative-ai/pdf/2312.11805v3.pdf\",\n",
        "        mime_type=\"application/pdf\",\n",
        "    ),\n",
        "    Part.from_uri(\n",
        "        \"gs://cloud-samples-data/generative-ai/pdf/2403.05530.pdf\",\n",
        "        mime_type=\"application/pdf\",\n",
        "    ),\n",
        "]\n",
        "\n",
        "cached_content = caching.CachedContent.create(\n",
        "    model_name=MODEL_ID,\n",
        "    system_instruction=system_instruction,\n",
        "    contents=contents,\n",
        "    ttl=datetime.timedelta(minutes=60),\n",
        ")"
      ]
    },
    {
      "cell_type": "markdown",
      "metadata": {
        "id": "7e1dKGSLDg2q"
      },
      "source": [
        "You can access the properties of the cached content as example below. You can use its `name` or `resource_name` to reference the contents of the context cache.\n",
        "\n",
        "**Note**: The `name` of the context cache is also referred to as cache ID."
      ]
    },
    {
      "cell_type": "code",
      "execution_count": 6,
      "metadata": {
        "id": "uRJPRtkKDk2b",
        "colab": {
          "base_uri": "https://localhost:8080/"
        },
        "outputId": "0b61b9c9-1fd1-48c4-e236-485fa42fb09b"
      },
      "outputs": [
        {
          "output_type": "stream",
          "name": "stdout",
          "text": [
            "8050219518296850432\n",
            "projects/761584077845/locations/us-central1/cachedContents/8050219518296850432\n",
            "projects/lavi-llm-experiment/locations/us-central1/publishers/google/models/gemini-1.5-pro-001\n",
            "2024-08-28 13:06:30.706204+00:00\n",
            "2024-08-28 14:06:30.594654+00:00\n"
          ]
        }
      ],
      "source": [
        "print(cached_content.name)\n",
        "print(cached_content.resource_name)\n",
        "print(cached_content.model_name)\n",
        "print(cached_content.create_time)\n",
        "print(cached_content.expire_time)"
      ]
    },
    {
      "cell_type": "markdown",
      "metadata": {
        "id": "d-f5gTEaCPkN"
      },
      "source": [
        "### Retrieve and use a context cache\n",
        "\n",
        "You can use the property `name` or `resource_name` to reference the contents of the context cache. For example:\n",
        "```\n",
        "new_cached_content = caching.CachedContent(cached_content_name=cached_content.name)\n",
        "```"
      ]
    },
    {
      "cell_type": "markdown",
      "metadata": {
        "id": "RQ1zMmFQ1BNj"
      },
      "source": [
        "To use the context cache, you construct a `GenerativeModel` with the context cache."
      ]
    },
    {
      "cell_type": "code",
      "execution_count": 7,
      "metadata": {
        "id": "EPVyJIW1BaVj"
      },
      "outputs": [],
      "source": [
        "model = GenerativeModel.from_cached_content(cached_content=cached_content)"
      ]
    },
    {
      "cell_type": "markdown",
      "metadata": {
        "id": "1kgfyCoGH_w0"
      },
      "source": [
        "Then you can query the model with a prompt, and the cached content will be used as a prefix to the prompt."
      ]
    },
    {
      "cell_type": "code",
      "execution_count": 8,
      "metadata": {
        "id": "5dSDogewDAHB",
        "colab": {
          "base_uri": "https://localhost:8080/"
        },
        "outputId": "81b0d3d5-67c0-4f15-8f2b-702d082c3e78"
      },
      "outputs": [
        {
          "output_type": "stream",
          "name": "stdout",
          "text": [
            "The research goal of these papers is to develop a family of large language models called Gemini, which will be highly capable in understanding and responding to a variety of inputs, including text, images, audio, and video. They aim to build a model that can reason across these different modalities, enabling it to excel in a wide range of tasks. \n",
            "\n"
          ]
        }
      ],
      "source": [
        "response = model.generate_content(\n",
        "    \"What is the research goal shared by these research papers?\"\n",
        ")\n",
        "\n",
        "print(response.text)"
      ]
    },
    {
      "cell_type": "markdown",
      "metadata": {
        "id": "tX7vHiybEWeJ"
      },
      "source": [
        "### Use context caching in Chat\n",
        "\n",
        "You can use the context cache in a multi-turn chat session.\n"
      ]
    },
    {
      "cell_type": "code",
      "execution_count": 9,
      "metadata": {
        "id": "FYNZS5o0FoGR"
      },
      "outputs": [],
      "source": [
        "chat = model.start_chat()"
      ]
    },
    {
      "cell_type": "code",
      "execution_count": 10,
      "metadata": {
        "id": "5U-6wGSFFx51",
        "colab": {
          "base_uri": "https://localhost:8080/"
        },
        "outputId": "6520ade3-58f7-4ac9-eb5d-a856d720b51a"
      },
      "outputs": [
        {
          "output_type": "stream",
          "name": "stdout",
          "text": [
            "Gemini 1.5 continues the same structured approach to responsible AI development as Gemini 1.0 with additions focused on long-context understanding, such as new image-to-text safety data and consideration of the potential for longer inputs to negatively affect model safety. The mitigation strategies are largely the same, primarily using SFT and RLHF, with the most substantial new update being the incorporation of image-to-text SFT data. \n",
            "\n"
          ]
        }
      ],
      "source": [
        "prompt = \"\"\"\n",
        "How do the approaches to responsible AI development and mitigation strategies in Gemini 1.5 evolve from those in Gemini 1.0?\n",
        "\"\"\"\n",
        "\n",
        "response = chat.send_message(prompt)\n",
        "\n",
        "print(response.text)"
      ]
    },
    {
      "cell_type": "code",
      "execution_count": 11,
      "metadata": {
        "id": "FFO_JgKNeCpK",
        "colab": {
          "base_uri": "https://localhost:8080/"
        },
        "outputId": "092d1c5b-9bd0-445a-d485-b055b594d0b0"
      },
      "outputs": [
        {
          "output_type": "stream",
          "name": "stdout",
          "text": [
            "Both papers highlight the need for more robust evaluations of LLMs, particularly for long-context understanding, and on tasks demanding high-level reasoning like causal understanding, logical deduction, and counterfactual reasoning. \n",
            "Additionally, there is a call for research into mitigating \"hallucinations\" generated by LLMs, improving translation quality (especially for low-resource languages), and  developing new ways to measure bias and stereotyping beyond simple, binary notions of harm. \n",
            "\n"
          ]
        }
      ],
      "source": [
        "prompt = \"\"\"\n",
        "Given the advancements presented in Gemini 1.5, what are the key future research directions identified in both papers\n",
        "for further improving multimodal AI models?\n",
        "\"\"\"\n",
        "\n",
        "response = chat.send_message(prompt)\n",
        "\n",
        "print(response.text)"
      ]
    },
    {
      "cell_type": "markdown",
      "metadata": {
        "id": "h2VhjUmojQjg"
      },
      "source": [
        "You can use `print(chat.history)` to print out the chat session history."
      ]
    },
    {
      "cell_type": "markdown",
      "metadata": {
        "id": "ORsGDdXXLwHK"
      },
      "source": [
        "### Update the expiration time of a context cache\n",
        "\n",
        "\n",
        "The default expiration time of a context cache is 60 minutes. To update the expiration time, update one of the following properties:\n",
        "\n",
        "`ttl` - The number of seconds and nanoseconds that the cache lives after it's created or after the `ttl` is updated before it expires. When you set the `ttl`, the cache `expire_time` is updated.\n",
        "\n",
        "`expire_time` - A Timestamp that specifies the absolute date and time when the context cache expires."
      ]
    },
    {
      "cell_type": "code",
      "execution_count": 12,
      "metadata": {
        "id": "WyiZoZHKI2Jr",
        "colab": {
          "base_uri": "https://localhost:8080/"
        },
        "outputId": "b3190545-147a-42ee-9e7a-8a17241d48a9"
      },
      "outputs": [
        {
          "output_type": "stream",
          "name": "stdout",
          "text": [
            "2024-08-26 14:59:05.250714+00:00\n"
          ]
        }
      ],
      "source": [
        "cached_content.update(ttl=datetime.timedelta(hours=1))\n",
        "\n",
        "cached_content.refresh()\n",
        "\n",
        "print(cached_content.expire_time)"
      ]
    },
    {
      "cell_type": "markdown",
      "metadata": {
        "id": "chd6_8YRxdIu"
      },
      "source": [
        "### Delete a context cache\n",
        "\n",
        "You can remove content from the cache using the delete operation."
      ]
    },
    {
      "cell_type": "code",
      "execution_count": 13,
      "metadata": {
        "id": "XGzgTk6YzgSt",
        "colab": {
          "base_uri": "https://localhost:8080/"
        },
        "outputId": "7fbc88db-20b4-4c01-8a4a-7c9d9d6ff5f8"
      },
      "outputs": [
        {
          "output_type": "stream",
          "name": "stderr",
          "text": [
            "INFO:google.cloud.aiplatform.base:Deleting CachedContent : projects/761584077845/locations/us-central1/cachedContents/83246224362176512\n"
          ]
        }
      ],
      "source": [
        "cached_content.delete()"
      ]
    },
    {
      "cell_type": "markdown",
      "source": [
        "## Basic RAG without Context Caching"
      ],
      "metadata": {
        "id": "gbCs6r__-9kD"
      }
    },
    {
      "cell_type": "code",
      "source": [
        "file_1 = \"gs://genai-asset/20230426-alphabet-10q.pdf\"\n",
        "file_2 = \"gs://genai-asset/goog-10-k-2023.pdf\"\n",
        "file_3 = \"gs://genai-asset/goog-10-q-q2-2023-4.pdf\"\n",
        "file_4 = \"gs://genai-asset/goog-10-q-q3-2023.pdf\"\n",
        "file_5 = \"gs://genai-asset/goog-10-k-q4-2022.pdf\""
      ],
      "metadata": {
        "id": "glJkInHv_Cs-"
      },
      "execution_count": 46,
      "outputs": []
    },
    {
      "cell_type": "code",
      "source": [
        "import pandas as pd\n",
        "from google.cloud import storage\n",
        "from io import BytesIO\n",
        "import PyPDF2\n",
        "\n",
        "def extract_pdf_metadata(file_uris):\n",
        "    \"\"\"\n",
        "    Extracts text from PDF files stored in Google Cloud Storage and returns a Pandas DataFrame.\n",
        "\n",
        "    Args:\n",
        "        file_uris: A list of GCS URIs pointing to PDF files.\n",
        "\n",
        "    Returns:\n",
        "        A Pandas DataFrame containing metadata for each page of each PDF file.\n",
        "    \"\"\"\n",
        "\n",
        "    all_metadata = []\n",
        "    storage_client = storage.Client()\n",
        "\n",
        "    for file_uri in file_uris:\n",
        "        try:\n",
        "            # Extract file name from URI\n",
        "            file_name = file_uri.split('/')[-1]\n",
        "\n",
        "            # Read file from GCS as bytes\n",
        "            bucket_name = file_uri.split('/')[2]\n",
        "            blob_name = '/'.join(file_uri.split('/')[3:])\n",
        "            bucket = storage_client.bucket(bucket_name)\n",
        "            blob = bucket.blob(blob_name)\n",
        "            pdf_bytes = blob.download_as_bytes()\n",
        "\n",
        "            # Extract text from PDF\n",
        "            pdf_reader = PyPDF2.PdfReader(BytesIO(pdf_bytes))\n",
        "            for page_number in range(len(pdf_reader.pages)):\n",
        "                page = pdf_reader.pages[page_number]\n",
        "                text = page.extract_text()\n",
        "\n",
        "                # Append metadata to list\n",
        "                all_metadata.append({\n",
        "                    'file_name': file_name,\n",
        "                    'page_number': page_number + 1,\n",
        "                    'text': text\n",
        "                })\n",
        "\n",
        "        except Exception as e:\n",
        "            print(f\"Error processing {file_uri}: {e}\")\n",
        "\n",
        "    return pd.DataFrame(all_metadata)"
      ],
      "metadata": {
        "id": "qCPOQrggEcAJ"
      },
      "execution_count": 13,
      "outputs": []
    },
    {
      "cell_type": "code",
      "source": [
        "file_uris = [file_1, file_2, file_3, file_4, file_5]\n",
        "df = extract_pdf_metadata(file_uris)"
      ],
      "metadata": {
        "id": "5gv2-bHZEeE0"
      },
      "execution_count": 14,
      "outputs": []
    },
    {
      "cell_type": "code",
      "source": [
        "df.head()"
      ],
      "metadata": {
        "colab": {
          "base_uri": "https://localhost:8080/",
          "height": 206
        },
        "id": "JCCfJWemEzXK",
        "outputId": "532b6dd7-fc4b-4ca5-b0a5-4688430bd67b"
      },
      "execution_count": 15,
      "outputs": [
        {
          "output_type": "execute_result",
          "data": {
            "text/plain": [
              "                   file_name  page_number  \\\n",
              "0  20230426-alphabet-10q.pdf            1   \n",
              "1  20230426-alphabet-10q.pdf            2   \n",
              "2  20230426-alphabet-10q.pdf            3   \n",
              "3  20230426-alphabet-10q.pdf            4   \n",
              "4  20230426-alphabet-10q.pdf            5   \n",
              "\n",
              "                                                text  \n",
              "0  UNITED STATES\\nSECURITIES AND EXCHANGE COMMISS...  \n",
              "1  Alphabet Inc.\\nForm 10-Q\\nFor the Quarterly Pe...  \n",
              "2  Note About Forward-Looking Statements\\nThis Qu...  \n",
              "3  •the expected timing, amount, and effect of Al...  \n",
              "4  PART I. FINANCIAL INFORMATION\\nITEM 1. FINANCI...  "
            ],
            "text/html": [
              "\n",
              "  <div id=\"df-acc00370-7d4a-49cb-b0f4-efcf536c3b06\" class=\"colab-df-container\">\n",
              "    <div>\n",
              "<style scoped>\n",
              "    .dataframe tbody tr th:only-of-type {\n",
              "        vertical-align: middle;\n",
              "    }\n",
              "\n",
              "    .dataframe tbody tr th {\n",
              "        vertical-align: top;\n",
              "    }\n",
              "\n",
              "    .dataframe thead th {\n",
              "        text-align: right;\n",
              "    }\n",
              "</style>\n",
              "<table border=\"1\" class=\"dataframe\">\n",
              "  <thead>\n",
              "    <tr style=\"text-align: right;\">\n",
              "      <th></th>\n",
              "      <th>file_name</th>\n",
              "      <th>page_number</th>\n",
              "      <th>text</th>\n",
              "    </tr>\n",
              "  </thead>\n",
              "  <tbody>\n",
              "    <tr>\n",
              "      <th>0</th>\n",
              "      <td>20230426-alphabet-10q.pdf</td>\n",
              "      <td>1</td>\n",
              "      <td>UNITED STATES\\nSECURITIES AND EXCHANGE COMMISS...</td>\n",
              "    </tr>\n",
              "    <tr>\n",
              "      <th>1</th>\n",
              "      <td>20230426-alphabet-10q.pdf</td>\n",
              "      <td>2</td>\n",
              "      <td>Alphabet Inc.\\nForm 10-Q\\nFor the Quarterly Pe...</td>\n",
              "    </tr>\n",
              "    <tr>\n",
              "      <th>2</th>\n",
              "      <td>20230426-alphabet-10q.pdf</td>\n",
              "      <td>3</td>\n",
              "      <td>Note About Forward-Looking Statements\\nThis Qu...</td>\n",
              "    </tr>\n",
              "    <tr>\n",
              "      <th>3</th>\n",
              "      <td>20230426-alphabet-10q.pdf</td>\n",
              "      <td>4</td>\n",
              "      <td>•the expected timing, amount, and effect of Al...</td>\n",
              "    </tr>\n",
              "    <tr>\n",
              "      <th>4</th>\n",
              "      <td>20230426-alphabet-10q.pdf</td>\n",
              "      <td>5</td>\n",
              "      <td>PART I. FINANCIAL INFORMATION\\nITEM 1. FINANCI...</td>\n",
              "    </tr>\n",
              "  </tbody>\n",
              "</table>\n",
              "</div>\n",
              "    <div class=\"colab-df-buttons\">\n",
              "\n",
              "  <div class=\"colab-df-container\">\n",
              "    <button class=\"colab-df-convert\" onclick=\"convertToInteractive('df-acc00370-7d4a-49cb-b0f4-efcf536c3b06')\"\n",
              "            title=\"Convert this dataframe to an interactive table.\"\n",
              "            style=\"display:none;\">\n",
              "\n",
              "  <svg xmlns=\"http://www.w3.org/2000/svg\" height=\"24px\" viewBox=\"0 -960 960 960\">\n",
              "    <path d=\"M120-120v-720h720v720H120Zm60-500h600v-160H180v160Zm220 220h160v-160H400v160Zm0 220h160v-160H400v160ZM180-400h160v-160H180v160Zm440 0h160v-160H620v160ZM180-180h160v-160H180v160Zm440 0h160v-160H620v160Z\"/>\n",
              "  </svg>\n",
              "    </button>\n",
              "\n",
              "  <style>\n",
              "    .colab-df-container {\n",
              "      display:flex;\n",
              "      gap: 12px;\n",
              "    }\n",
              "\n",
              "    .colab-df-convert {\n",
              "      background-color: #E8F0FE;\n",
              "      border: none;\n",
              "      border-radius: 50%;\n",
              "      cursor: pointer;\n",
              "      display: none;\n",
              "      fill: #1967D2;\n",
              "      height: 32px;\n",
              "      padding: 0 0 0 0;\n",
              "      width: 32px;\n",
              "    }\n",
              "\n",
              "    .colab-df-convert:hover {\n",
              "      background-color: #E2EBFA;\n",
              "      box-shadow: 0px 1px 2px rgba(60, 64, 67, 0.3), 0px 1px 3px 1px rgba(60, 64, 67, 0.15);\n",
              "      fill: #174EA6;\n",
              "    }\n",
              "\n",
              "    .colab-df-buttons div {\n",
              "      margin-bottom: 4px;\n",
              "    }\n",
              "\n",
              "    [theme=dark] .colab-df-convert {\n",
              "      background-color: #3B4455;\n",
              "      fill: #D2E3FC;\n",
              "    }\n",
              "\n",
              "    [theme=dark] .colab-df-convert:hover {\n",
              "      background-color: #434B5C;\n",
              "      box-shadow: 0px 1px 3px 1px rgba(0, 0, 0, 0.15);\n",
              "      filter: drop-shadow(0px 1px 2px rgba(0, 0, 0, 0.3));\n",
              "      fill: #FFFFFF;\n",
              "    }\n",
              "  </style>\n",
              "\n",
              "    <script>\n",
              "      const buttonEl =\n",
              "        document.querySelector('#df-acc00370-7d4a-49cb-b0f4-efcf536c3b06 button.colab-df-convert');\n",
              "      buttonEl.style.display =\n",
              "        google.colab.kernel.accessAllowed ? 'block' : 'none';\n",
              "\n",
              "      async function convertToInteractive(key) {\n",
              "        const element = document.querySelector('#df-acc00370-7d4a-49cb-b0f4-efcf536c3b06');\n",
              "        const dataTable =\n",
              "          await google.colab.kernel.invokeFunction('convertToInteractive',\n",
              "                                                    [key], {});\n",
              "        if (!dataTable) return;\n",
              "\n",
              "        const docLinkHtml = 'Like what you see? Visit the ' +\n",
              "          '<a target=\"_blank\" href=https://colab.research.google.com/notebooks/data_table.ipynb>data table notebook</a>'\n",
              "          + ' to learn more about interactive tables.';\n",
              "        element.innerHTML = '';\n",
              "        dataTable['output_type'] = 'display_data';\n",
              "        await google.colab.output.renderOutput(dataTable, element);\n",
              "        const docLink = document.createElement('div');\n",
              "        docLink.innerHTML = docLinkHtml;\n",
              "        element.appendChild(docLink);\n",
              "      }\n",
              "    </script>\n",
              "  </div>\n",
              "\n",
              "\n",
              "<div id=\"df-0adbe25a-9fd1-4e9d-9923-d44dd8c55f72\">\n",
              "  <button class=\"colab-df-quickchart\" onclick=\"quickchart('df-0adbe25a-9fd1-4e9d-9923-d44dd8c55f72')\"\n",
              "            title=\"Suggest charts\"\n",
              "            style=\"display:none;\">\n",
              "\n",
              "<svg xmlns=\"http://www.w3.org/2000/svg\" height=\"24px\"viewBox=\"0 0 24 24\"\n",
              "     width=\"24px\">\n",
              "    <g>\n",
              "        <path d=\"M19 3H5c-1.1 0-2 .9-2 2v14c0 1.1.9 2 2 2h14c1.1 0 2-.9 2-2V5c0-1.1-.9-2-2-2zM9 17H7v-7h2v7zm4 0h-2V7h2v10zm4 0h-2v-4h2v4z\"/>\n",
              "    </g>\n",
              "</svg>\n",
              "  </button>\n",
              "\n",
              "<style>\n",
              "  .colab-df-quickchart {\n",
              "      --bg-color: #E8F0FE;\n",
              "      --fill-color: #1967D2;\n",
              "      --hover-bg-color: #E2EBFA;\n",
              "      --hover-fill-color: #174EA6;\n",
              "      --disabled-fill-color: #AAA;\n",
              "      --disabled-bg-color: #DDD;\n",
              "  }\n",
              "\n",
              "  [theme=dark] .colab-df-quickchart {\n",
              "      --bg-color: #3B4455;\n",
              "      --fill-color: #D2E3FC;\n",
              "      --hover-bg-color: #434B5C;\n",
              "      --hover-fill-color: #FFFFFF;\n",
              "      --disabled-bg-color: #3B4455;\n",
              "      --disabled-fill-color: #666;\n",
              "  }\n",
              "\n",
              "  .colab-df-quickchart {\n",
              "    background-color: var(--bg-color);\n",
              "    border: none;\n",
              "    border-radius: 50%;\n",
              "    cursor: pointer;\n",
              "    display: none;\n",
              "    fill: var(--fill-color);\n",
              "    height: 32px;\n",
              "    padding: 0;\n",
              "    width: 32px;\n",
              "  }\n",
              "\n",
              "  .colab-df-quickchart:hover {\n",
              "    background-color: var(--hover-bg-color);\n",
              "    box-shadow: 0 1px 2px rgba(60, 64, 67, 0.3), 0 1px 3px 1px rgba(60, 64, 67, 0.15);\n",
              "    fill: var(--button-hover-fill-color);\n",
              "  }\n",
              "\n",
              "  .colab-df-quickchart-complete:disabled,\n",
              "  .colab-df-quickchart-complete:disabled:hover {\n",
              "    background-color: var(--disabled-bg-color);\n",
              "    fill: var(--disabled-fill-color);\n",
              "    box-shadow: none;\n",
              "  }\n",
              "\n",
              "  .colab-df-spinner {\n",
              "    border: 2px solid var(--fill-color);\n",
              "    border-color: transparent;\n",
              "    border-bottom-color: var(--fill-color);\n",
              "    animation:\n",
              "      spin 1s steps(1) infinite;\n",
              "  }\n",
              "\n",
              "  @keyframes spin {\n",
              "    0% {\n",
              "      border-color: transparent;\n",
              "      border-bottom-color: var(--fill-color);\n",
              "      border-left-color: var(--fill-color);\n",
              "    }\n",
              "    20% {\n",
              "      border-color: transparent;\n",
              "      border-left-color: var(--fill-color);\n",
              "      border-top-color: var(--fill-color);\n",
              "    }\n",
              "    30% {\n",
              "      border-color: transparent;\n",
              "      border-left-color: var(--fill-color);\n",
              "      border-top-color: var(--fill-color);\n",
              "      border-right-color: var(--fill-color);\n",
              "    }\n",
              "    40% {\n",
              "      border-color: transparent;\n",
              "      border-right-color: var(--fill-color);\n",
              "      border-top-color: var(--fill-color);\n",
              "    }\n",
              "    60% {\n",
              "      border-color: transparent;\n",
              "      border-right-color: var(--fill-color);\n",
              "    }\n",
              "    80% {\n",
              "      border-color: transparent;\n",
              "      border-right-color: var(--fill-color);\n",
              "      border-bottom-color: var(--fill-color);\n",
              "    }\n",
              "    90% {\n",
              "      border-color: transparent;\n",
              "      border-bottom-color: var(--fill-color);\n",
              "    }\n",
              "  }\n",
              "</style>\n",
              "\n",
              "  <script>\n",
              "    async function quickchart(key) {\n",
              "      const quickchartButtonEl =\n",
              "        document.querySelector('#' + key + ' button');\n",
              "      quickchartButtonEl.disabled = true;  // To prevent multiple clicks.\n",
              "      quickchartButtonEl.classList.add('colab-df-spinner');\n",
              "      try {\n",
              "        const charts = await google.colab.kernel.invokeFunction(\n",
              "            'suggestCharts', [key], {});\n",
              "      } catch (error) {\n",
              "        console.error('Error during call to suggestCharts:', error);\n",
              "      }\n",
              "      quickchartButtonEl.classList.remove('colab-df-spinner');\n",
              "      quickchartButtonEl.classList.add('colab-df-quickchart-complete');\n",
              "    }\n",
              "    (() => {\n",
              "      let quickchartButtonEl =\n",
              "        document.querySelector('#df-0adbe25a-9fd1-4e9d-9923-d44dd8c55f72 button');\n",
              "      quickchartButtonEl.style.display =\n",
              "        google.colab.kernel.accessAllowed ? 'block' : 'none';\n",
              "    })();\n",
              "  </script>\n",
              "</div>\n",
              "\n",
              "    </div>\n",
              "  </div>\n"
            ],
            "application/vnd.google.colaboratory.intrinsic+json": {
              "type": "dataframe",
              "variable_name": "df",
              "summary": "{\n  \"name\": \"df\",\n  \"rows\": 249,\n  \"fields\": [\n    {\n      \"column\": \"file_name\",\n      \"properties\": {\n        \"dtype\": \"category\",\n        \"num_unique_values\": 4,\n        \"samples\": [\n          \"goog-10-k-2023.pdf\",\n          \"goog-10-q-q3-2023.pdf\",\n          \"20230426-alphabet-10q.pdf\"\n        ],\n        \"semantic_type\": \"\",\n        \"description\": \"\"\n      }\n    },\n    {\n      \"column\": \"page_number\",\n      \"properties\": {\n        \"dtype\": \"number\",\n        \"std\": 23,\n        \"min\": 1,\n        \"max\": 97,\n        \"num_unique_values\": 97,\n        \"samples\": [\n          63,\n          41,\n          94\n        ],\n        \"semantic_type\": \"\",\n        \"description\": \"\"\n      }\n    },\n    {\n      \"column\": \"text\",\n      \"properties\": {\n        \"dtype\": \"string\",\n        \"num_unique_values\": 248,\n        \"samples\": [\n          \"additional information, see Note 7 of the Notes to Consolidated Financial Statements included in Item 1 of \\nthis Quarterly Report on Form 10-Q.\\n\\u2022In January 2023, we completed an assessment of the useful lives of our servers and network equipment, \\nresulting in a change in the estimated useful life of our servers and certain network equipment  to six years. \\nThe effect of this change was a reduction in depreciation expense of $988 million  for the first quarter of \\n2023, recognized primarily in cost of revenues and R&D expenses. For additional information, see Note 1 of \\nthe Notes to Consolidated Financial Statements included in Item 1 of this Quarterly Report on Form 10-Q.\\n\\u2022Beginning in the first quarter of 2023, our segment reporting reflects two changes: (i) Deep Mind , previously \\nreported within Other Bets, is reported as part of Alphabet's unallocated corporate costs, and (ii) we \\nupdated and simplified our cost allocation methodologies to provide our business leaders with increased \\ntransparency for decision-making . Prior periods have been recast to conform to the current presentation. \\nFor additional information, see Note 14 of the Notes to Consolidated Financial Statements included in Item \\n1 of this Quarterly Report on Form 10-Q.\\n\\u2022Beginning in 2023, the timing of our annual employee stock-based compensation awards shifted from \\nJanuary to March. While the shift in timing itself will not  affect the amount of stock-based compensation \\nexpense over the full fiscal year 2023, it results in relatively less expense recognized in the first quarter \\ncompared to the remaining quarters of the year.\\n\\u2022Repurchases of Class A and Class C shares were $15.1 billion  for the three months ended March 31, 2023 . \\nSee Note 10  of the Notes to Consolidated Financial Statements included in Item 1 of this Quarterly Report \\non Form 10-Q for additional information.\\n\\u2022Operating cash flow was $23.5 billion  for the three months ended March 31, 2023 .\\n\\u2022Capital expenditures, which primarily reflected investments in technical infrastructur e, were $6.3 billion  for \\nthe three months ended March 31, 2023 .\\n\\u2022As of March 31, 2023 , we had 190,711  employees, which includes almost all of the employees affected by \\nthe reduction of our workforce. We expect most of those affected will no longer be reflected in our \\nheadcount by the end of the second quarter of 2023, subject to local law and consultation requirements.Table of Contents Alphabet Inc.\\n34\",\n          \"Alphabet Inc.\\nCONSOLIDATED STATEMENTS OF COMPREHENSIVE INCOME\\n(in millions; unaudited)\\nThree Months Ended\\n March 31,\\n 2022 2023\\nNet income $ 16,436 $ 15,051 \\nOther comprehensive income (loss):\\nChange in foreign currency translation adjustment  39  596 \\nAvailable-for-sale investments:\\nChange in net unrealized gains (losses)  (2,478)  866 \\nLess: reclassification adjustment for net (gains) losses included in net \\nincome  148  292 \\nNet change, net of income tax benefit (expense) of $633  and $(330)  (2,330)  1,158 \\nCash flow hedges:\\nChange in net unrealized gains (losses)  114  (74) \\nLess: reclassification adjustment for net (gains) losses included in net \\nincome  (249)  (77) \\nNet change, net of income tax benefit (expense) of $44 and $30  (135)  (151) \\nOther comprehensive income (loss)  (2,426)  1,603 \\nComprehensive income $ 14,010 $ 16,654 \\nSee accompanying notes.Table of Contents Alphabet Inc.\\n7\",\n          \"Revenues by Geography\\nThe following table presents revenues by geography as a percentage of revenues, determined based on the \\naddresses of our customers:\\nThree Months Ended Six Months Ended\\n June 30, June 30,\\n 2022 2023 2022 2023\\nUnited States  47 %  47 %  47 %  47 %\\nEMEA  29 %  30 %  30 %  30 %\\nAPAC  17 %  17 %  17 %  17 %\\nOther Americas  6 %  6 %  6 %  6 %\\nHedging gains (losses)  1 %  0 %  0 %  0 %\\nFor further details on revenues by geography, see Note 2  of the Notes to Consolidated Financial Statements \\nincluded in Item 1 of this Quarterly Report on Form 10-Q.\\nUse of Non-GAAP Constant Currency Information\\nInternational revenues, which represent a significant portion of our revenues, are generally transacted in \\nmultiple currencies and therefore are affected by fluctuations in foreign currency exchange rates.\\nThe effect of currency exchange rates on our business is an important factor in understanding period-to-period \\ncomparisons. We use non-GAAP constant currency revenues (\\\"constant currency revenues\\\") and non-GAAP \\npercentage change in constant currency revenues (\\\"percentage change in constant currency revenues\\\") for \\nfinancial and operational decision-making and as a means to evaluate period-to-period comparisons. We believe \\nthe presentation of results on a constant currency basis in addition to GAAP results helps improve the ability to \\nunderstand our performance, because it excludes the effects of foreign currency volatility that are not indicative of \\nour core operating results.\\nConstant currency information compares results between periods as if exchange rates had remained constant \\nperiod over period. We define constant currency revenues as revenues excluding the effect of foreign currency \\nexchange rate movements (\\\"FX Effect\\\") as well as hedging activities, which are recognized at the consolidated \\nlevel. We use constant currency revenues to determine the constant currency revenue percentage change on a \\nyear-on-year basis. Constant currency revenues are calculated by translating current period revenues using prior \\nyear comparable period exchange rates, as well as excluding any hedging effects realized in the current period.\\nConstant currency revenue percentage change is calculated by determining the change in current period \\nrevenues over prior year comparable period revenues where current period foreign currency revenues are \\ntranslated using prior year comparable period exchange rates and hedging effects are excluded from revenues of \\nboth periods.\\nThese results should be considered in addition to, not as a substitute for, results reported in accordance with \\nGAAP. Results on a constant currency basis, as we present them, may not be comparable to similarly titled \\nmeasures used by other companies and are not a measure of performance presented in accordance with GAAP.Table of Contents Alphabet Inc.\\n40\"\n        ],\n        \"semantic_type\": \"\",\n        \"description\": \"\"\n      }\n    }\n  ]\n}"
            }
          },
          "metadata": {},
          "execution_count": 15
        }
      ]
    },
    {
      "cell_type": "code",
      "source": [
        "df.shape"
      ],
      "metadata": {
        "colab": {
          "base_uri": "https://localhost:8080/"
        },
        "id": "DL3ah2wjE6iZ",
        "outputId": "f3529b6f-831e-4e2a-f8c5-791fddffc99e"
      },
      "execution_count": 16,
      "outputs": [
        {
          "output_type": "execute_result",
          "data": {
            "text/plain": [
              "(249, 3)"
            ]
          },
          "metadata": {},
          "execution_count": 16
        }
      ]
    },
    {
      "cell_type": "code",
      "source": [
        "from typing import List, Optional\n",
        "\n",
        "from vertexai.language_models import TextEmbeddingInput, TextEmbeddingModel\n",
        "\n",
        "\n",
        "def embed_text(\n",
        "    texts: List[str] = [\"banana muffins? \", \"banana bread? banana muffins?\"],\n",
        "    task: str = \"RETRIEVAL_DOCUMENT\",\n",
        "    model_name: str = \"text-embedding-004\",\n",
        "    dimensionality: Optional[int] = 768,\n",
        ") -> List[List[float]]:\n",
        "    \"\"\"Embeds texts with a pre-trained, foundational model.\"\"\"\n",
        "    model = TextEmbeddingModel.from_pretrained(model_name)\n",
        "    inputs = [TextEmbeddingInput(text, task) for text in texts]\n",
        "    kwargs = dict(output_dimensionality=dimensionality) if dimensionality else {}\n",
        "    embeddings = model.get_embeddings(inputs, **kwargs)\n",
        "    return [embedding.values for embedding in embeddings][0]\n"
      ],
      "metadata": {
        "id": "tyEdszkhFPyf"
      },
      "execution_count": 27,
      "outputs": []
    },
    {
      "cell_type": "code",
      "source": [
        "%%time\n",
        "\n",
        "df['embeddings'] = df['text'].apply(lambda x: embed_text([x]))"
      ],
      "metadata": {
        "colab": {
          "base_uri": "https://localhost:8080/"
        },
        "id": "iVvP1MvgGEtY",
        "outputId": "f12e03be-63ce-472d-a640-5a83448fce4f"
      },
      "execution_count": 28,
      "outputs": [
        {
          "output_type": "stream",
          "name": "stdout",
          "text": [
            "CPU times: user 9.45 s, sys: 1.22 s, total: 10.7 s\n",
            "Wall time: 3min 48s\n"
          ]
        }
      ]
    },
    {
      "cell_type": "code",
      "source": [
        "df.head()"
      ],
      "metadata": {
        "colab": {
          "base_uri": "https://localhost:8080/",
          "height": 293
        },
        "id": "BmYRQ66AGPsT",
        "outputId": "82da1b9f-9205-444d-d3bc-4241cf090bf6"
      },
      "execution_count": 29,
      "outputs": [
        {
          "output_type": "execute_result",
          "data": {
            "text/plain": [
              "                   file_name  page_number  \\\n",
              "0  20230426-alphabet-10q.pdf            1   \n",
              "1  20230426-alphabet-10q.pdf            2   \n",
              "2  20230426-alphabet-10q.pdf            3   \n",
              "3  20230426-alphabet-10q.pdf            4   \n",
              "4  20230426-alphabet-10q.pdf            5   \n",
              "\n",
              "                                                text  \\\n",
              "0  UNITED STATES\\nSECURITIES AND EXCHANGE COMMISS...   \n",
              "1  Alphabet Inc.\\nForm 10-Q\\nFor the Quarterly Pe...   \n",
              "2  Note About Forward-Looking Statements\\nThis Qu...   \n",
              "3  •the expected timing, amount, and effect of Al...   \n",
              "4  PART I. FINANCIAL INFORMATION\\nITEM 1. FINANCI...   \n",
              "\n",
              "                                          embeddings  \n",
              "0  [0.04671001061797142, 0.01689017191529274, -0....  \n",
              "1  [0.050522807985544205, 0.01621415838599205, -0...  \n",
              "2  [0.03999736160039902, -0.015815766528248787, -...  \n",
              "3  [0.05650733411312103, 0.007662168703973293, -0...  \n",
              "4  [0.042750339955091476, 0.015332790091633797, -...  "
            ],
            "text/html": [
              "\n",
              "  <div id=\"df-6e424579-e748-4355-a3f7-049599d8f666\" class=\"colab-df-container\">\n",
              "    <div>\n",
              "<style scoped>\n",
              "    .dataframe tbody tr th:only-of-type {\n",
              "        vertical-align: middle;\n",
              "    }\n",
              "\n",
              "    .dataframe tbody tr th {\n",
              "        vertical-align: top;\n",
              "    }\n",
              "\n",
              "    .dataframe thead th {\n",
              "        text-align: right;\n",
              "    }\n",
              "</style>\n",
              "<table border=\"1\" class=\"dataframe\">\n",
              "  <thead>\n",
              "    <tr style=\"text-align: right;\">\n",
              "      <th></th>\n",
              "      <th>file_name</th>\n",
              "      <th>page_number</th>\n",
              "      <th>text</th>\n",
              "      <th>embeddings</th>\n",
              "    </tr>\n",
              "  </thead>\n",
              "  <tbody>\n",
              "    <tr>\n",
              "      <th>0</th>\n",
              "      <td>20230426-alphabet-10q.pdf</td>\n",
              "      <td>1</td>\n",
              "      <td>UNITED STATES\\nSECURITIES AND EXCHANGE COMMISS...</td>\n",
              "      <td>[0.04671001061797142, 0.01689017191529274, -0....</td>\n",
              "    </tr>\n",
              "    <tr>\n",
              "      <th>1</th>\n",
              "      <td>20230426-alphabet-10q.pdf</td>\n",
              "      <td>2</td>\n",
              "      <td>Alphabet Inc.\\nForm 10-Q\\nFor the Quarterly Pe...</td>\n",
              "      <td>[0.050522807985544205, 0.01621415838599205, -0...</td>\n",
              "    </tr>\n",
              "    <tr>\n",
              "      <th>2</th>\n",
              "      <td>20230426-alphabet-10q.pdf</td>\n",
              "      <td>3</td>\n",
              "      <td>Note About Forward-Looking Statements\\nThis Qu...</td>\n",
              "      <td>[0.03999736160039902, -0.015815766528248787, -...</td>\n",
              "    </tr>\n",
              "    <tr>\n",
              "      <th>3</th>\n",
              "      <td>20230426-alphabet-10q.pdf</td>\n",
              "      <td>4</td>\n",
              "      <td>•the expected timing, amount, and effect of Al...</td>\n",
              "      <td>[0.05650733411312103, 0.007662168703973293, -0...</td>\n",
              "    </tr>\n",
              "    <tr>\n",
              "      <th>4</th>\n",
              "      <td>20230426-alphabet-10q.pdf</td>\n",
              "      <td>5</td>\n",
              "      <td>PART I. FINANCIAL INFORMATION\\nITEM 1. FINANCI...</td>\n",
              "      <td>[0.042750339955091476, 0.015332790091633797, -...</td>\n",
              "    </tr>\n",
              "  </tbody>\n",
              "</table>\n",
              "</div>\n",
              "    <div class=\"colab-df-buttons\">\n",
              "\n",
              "  <div class=\"colab-df-container\">\n",
              "    <button class=\"colab-df-convert\" onclick=\"convertToInteractive('df-6e424579-e748-4355-a3f7-049599d8f666')\"\n",
              "            title=\"Convert this dataframe to an interactive table.\"\n",
              "            style=\"display:none;\">\n",
              "\n",
              "  <svg xmlns=\"http://www.w3.org/2000/svg\" height=\"24px\" viewBox=\"0 -960 960 960\">\n",
              "    <path d=\"M120-120v-720h720v720H120Zm60-500h600v-160H180v160Zm220 220h160v-160H400v160Zm0 220h160v-160H400v160ZM180-400h160v-160H180v160Zm440 0h160v-160H620v160ZM180-180h160v-160H180v160Zm440 0h160v-160H620v160Z\"/>\n",
              "  </svg>\n",
              "    </button>\n",
              "\n",
              "  <style>\n",
              "    .colab-df-container {\n",
              "      display:flex;\n",
              "      gap: 12px;\n",
              "    }\n",
              "\n",
              "    .colab-df-convert {\n",
              "      background-color: #E8F0FE;\n",
              "      border: none;\n",
              "      border-radius: 50%;\n",
              "      cursor: pointer;\n",
              "      display: none;\n",
              "      fill: #1967D2;\n",
              "      height: 32px;\n",
              "      padding: 0 0 0 0;\n",
              "      width: 32px;\n",
              "    }\n",
              "\n",
              "    .colab-df-convert:hover {\n",
              "      background-color: #E2EBFA;\n",
              "      box-shadow: 0px 1px 2px rgba(60, 64, 67, 0.3), 0px 1px 3px 1px rgba(60, 64, 67, 0.15);\n",
              "      fill: #174EA6;\n",
              "    }\n",
              "\n",
              "    .colab-df-buttons div {\n",
              "      margin-bottom: 4px;\n",
              "    }\n",
              "\n",
              "    [theme=dark] .colab-df-convert {\n",
              "      background-color: #3B4455;\n",
              "      fill: #D2E3FC;\n",
              "    }\n",
              "\n",
              "    [theme=dark] .colab-df-convert:hover {\n",
              "      background-color: #434B5C;\n",
              "      box-shadow: 0px 1px 3px 1px rgba(0, 0, 0, 0.15);\n",
              "      filter: drop-shadow(0px 1px 2px rgba(0, 0, 0, 0.3));\n",
              "      fill: #FFFFFF;\n",
              "    }\n",
              "  </style>\n",
              "\n",
              "    <script>\n",
              "      const buttonEl =\n",
              "        document.querySelector('#df-6e424579-e748-4355-a3f7-049599d8f666 button.colab-df-convert');\n",
              "      buttonEl.style.display =\n",
              "        google.colab.kernel.accessAllowed ? 'block' : 'none';\n",
              "\n",
              "      async function convertToInteractive(key) {\n",
              "        const element = document.querySelector('#df-6e424579-e748-4355-a3f7-049599d8f666');\n",
              "        const dataTable =\n",
              "          await google.colab.kernel.invokeFunction('convertToInteractive',\n",
              "                                                    [key], {});\n",
              "        if (!dataTable) return;\n",
              "\n",
              "        const docLinkHtml = 'Like what you see? Visit the ' +\n",
              "          '<a target=\"_blank\" href=https://colab.research.google.com/notebooks/data_table.ipynb>data table notebook</a>'\n",
              "          + ' to learn more about interactive tables.';\n",
              "        element.innerHTML = '';\n",
              "        dataTable['output_type'] = 'display_data';\n",
              "        await google.colab.output.renderOutput(dataTable, element);\n",
              "        const docLink = document.createElement('div');\n",
              "        docLink.innerHTML = docLinkHtml;\n",
              "        element.appendChild(docLink);\n",
              "      }\n",
              "    </script>\n",
              "  </div>\n",
              "\n",
              "\n",
              "<div id=\"df-488c1d19-79d4-4b7a-bc46-92321353dcfb\">\n",
              "  <button class=\"colab-df-quickchart\" onclick=\"quickchart('df-488c1d19-79d4-4b7a-bc46-92321353dcfb')\"\n",
              "            title=\"Suggest charts\"\n",
              "            style=\"display:none;\">\n",
              "\n",
              "<svg xmlns=\"http://www.w3.org/2000/svg\" height=\"24px\"viewBox=\"0 0 24 24\"\n",
              "     width=\"24px\">\n",
              "    <g>\n",
              "        <path d=\"M19 3H5c-1.1 0-2 .9-2 2v14c0 1.1.9 2 2 2h14c1.1 0 2-.9 2-2V5c0-1.1-.9-2-2-2zM9 17H7v-7h2v7zm4 0h-2V7h2v10zm4 0h-2v-4h2v4z\"/>\n",
              "    </g>\n",
              "</svg>\n",
              "  </button>\n",
              "\n",
              "<style>\n",
              "  .colab-df-quickchart {\n",
              "      --bg-color: #E8F0FE;\n",
              "      --fill-color: #1967D2;\n",
              "      --hover-bg-color: #E2EBFA;\n",
              "      --hover-fill-color: #174EA6;\n",
              "      --disabled-fill-color: #AAA;\n",
              "      --disabled-bg-color: #DDD;\n",
              "  }\n",
              "\n",
              "  [theme=dark] .colab-df-quickchart {\n",
              "      --bg-color: #3B4455;\n",
              "      --fill-color: #D2E3FC;\n",
              "      --hover-bg-color: #434B5C;\n",
              "      --hover-fill-color: #FFFFFF;\n",
              "      --disabled-bg-color: #3B4455;\n",
              "      --disabled-fill-color: #666;\n",
              "  }\n",
              "\n",
              "  .colab-df-quickchart {\n",
              "    background-color: var(--bg-color);\n",
              "    border: none;\n",
              "    border-radius: 50%;\n",
              "    cursor: pointer;\n",
              "    display: none;\n",
              "    fill: var(--fill-color);\n",
              "    height: 32px;\n",
              "    padding: 0;\n",
              "    width: 32px;\n",
              "  }\n",
              "\n",
              "  .colab-df-quickchart:hover {\n",
              "    background-color: var(--hover-bg-color);\n",
              "    box-shadow: 0 1px 2px rgba(60, 64, 67, 0.3), 0 1px 3px 1px rgba(60, 64, 67, 0.15);\n",
              "    fill: var(--button-hover-fill-color);\n",
              "  }\n",
              "\n",
              "  .colab-df-quickchart-complete:disabled,\n",
              "  .colab-df-quickchart-complete:disabled:hover {\n",
              "    background-color: var(--disabled-bg-color);\n",
              "    fill: var(--disabled-fill-color);\n",
              "    box-shadow: none;\n",
              "  }\n",
              "\n",
              "  .colab-df-spinner {\n",
              "    border: 2px solid var(--fill-color);\n",
              "    border-color: transparent;\n",
              "    border-bottom-color: var(--fill-color);\n",
              "    animation:\n",
              "      spin 1s steps(1) infinite;\n",
              "  }\n",
              "\n",
              "  @keyframes spin {\n",
              "    0% {\n",
              "      border-color: transparent;\n",
              "      border-bottom-color: var(--fill-color);\n",
              "      border-left-color: var(--fill-color);\n",
              "    }\n",
              "    20% {\n",
              "      border-color: transparent;\n",
              "      border-left-color: var(--fill-color);\n",
              "      border-top-color: var(--fill-color);\n",
              "    }\n",
              "    30% {\n",
              "      border-color: transparent;\n",
              "      border-left-color: var(--fill-color);\n",
              "      border-top-color: var(--fill-color);\n",
              "      border-right-color: var(--fill-color);\n",
              "    }\n",
              "    40% {\n",
              "      border-color: transparent;\n",
              "      border-right-color: var(--fill-color);\n",
              "      border-top-color: var(--fill-color);\n",
              "    }\n",
              "    60% {\n",
              "      border-color: transparent;\n",
              "      border-right-color: var(--fill-color);\n",
              "    }\n",
              "    80% {\n",
              "      border-color: transparent;\n",
              "      border-right-color: var(--fill-color);\n",
              "      border-bottom-color: var(--fill-color);\n",
              "    }\n",
              "    90% {\n",
              "      border-color: transparent;\n",
              "      border-bottom-color: var(--fill-color);\n",
              "    }\n",
              "  }\n",
              "</style>\n",
              "\n",
              "  <script>\n",
              "    async function quickchart(key) {\n",
              "      const quickchartButtonEl =\n",
              "        document.querySelector('#' + key + ' button');\n",
              "      quickchartButtonEl.disabled = true;  // To prevent multiple clicks.\n",
              "      quickchartButtonEl.classList.add('colab-df-spinner');\n",
              "      try {\n",
              "        const charts = await google.colab.kernel.invokeFunction(\n",
              "            'suggestCharts', [key], {});\n",
              "      } catch (error) {\n",
              "        console.error('Error during call to suggestCharts:', error);\n",
              "      }\n",
              "      quickchartButtonEl.classList.remove('colab-df-spinner');\n",
              "      quickchartButtonEl.classList.add('colab-df-quickchart-complete');\n",
              "    }\n",
              "    (() => {\n",
              "      let quickchartButtonEl =\n",
              "        document.querySelector('#df-488c1d19-79d4-4b7a-bc46-92321353dcfb button');\n",
              "      quickchartButtonEl.style.display =\n",
              "        google.colab.kernel.accessAllowed ? 'block' : 'none';\n",
              "    })();\n",
              "  </script>\n",
              "</div>\n",
              "\n",
              "    </div>\n",
              "  </div>\n"
            ],
            "application/vnd.google.colaboratory.intrinsic+json": {
              "type": "dataframe",
              "variable_name": "df",
              "summary": "{\n  \"name\": \"df\",\n  \"rows\": 249,\n  \"fields\": [\n    {\n      \"column\": \"file_name\",\n      \"properties\": {\n        \"dtype\": \"category\",\n        \"num_unique_values\": 4,\n        \"samples\": [\n          \"goog-10-k-2023.pdf\",\n          \"goog-10-q-q3-2023.pdf\",\n          \"20230426-alphabet-10q.pdf\"\n        ],\n        \"semantic_type\": \"\",\n        \"description\": \"\"\n      }\n    },\n    {\n      \"column\": \"page_number\",\n      \"properties\": {\n        \"dtype\": \"number\",\n        \"std\": 23,\n        \"min\": 1,\n        \"max\": 97,\n        \"num_unique_values\": 97,\n        \"samples\": [\n          63,\n          41,\n          94\n        ],\n        \"semantic_type\": \"\",\n        \"description\": \"\"\n      }\n    },\n    {\n      \"column\": \"text\",\n      \"properties\": {\n        \"dtype\": \"string\",\n        \"num_unique_values\": 248,\n        \"samples\": [\n          \"additional information, see Note 7 of the Notes to Consolidated Financial Statements included in Item 1 of \\nthis Quarterly Report on Form 10-Q.\\n\\u2022In January 2023, we completed an assessment of the useful lives of our servers and network equipment, \\nresulting in a change in the estimated useful life of our servers and certain network equipment  to six years. \\nThe effect of this change was a reduction in depreciation expense of $988 million  for the first quarter of \\n2023, recognized primarily in cost of revenues and R&D expenses. For additional information, see Note 1 of \\nthe Notes to Consolidated Financial Statements included in Item 1 of this Quarterly Report on Form 10-Q.\\n\\u2022Beginning in the first quarter of 2023, our segment reporting reflects two changes: (i) Deep Mind , previously \\nreported within Other Bets, is reported as part of Alphabet's unallocated corporate costs, and (ii) we \\nupdated and simplified our cost allocation methodologies to provide our business leaders with increased \\ntransparency for decision-making . Prior periods have been recast to conform to the current presentation. \\nFor additional information, see Note 14 of the Notes to Consolidated Financial Statements included in Item \\n1 of this Quarterly Report on Form 10-Q.\\n\\u2022Beginning in 2023, the timing of our annual employee stock-based compensation awards shifted from \\nJanuary to March. While the shift in timing itself will not  affect the amount of stock-based compensation \\nexpense over the full fiscal year 2023, it results in relatively less expense recognized in the first quarter \\ncompared to the remaining quarters of the year.\\n\\u2022Repurchases of Class A and Class C shares were $15.1 billion  for the three months ended March 31, 2023 . \\nSee Note 10  of the Notes to Consolidated Financial Statements included in Item 1 of this Quarterly Report \\non Form 10-Q for additional information.\\n\\u2022Operating cash flow was $23.5 billion  for the three months ended March 31, 2023 .\\n\\u2022Capital expenditures, which primarily reflected investments in technical infrastructur e, were $6.3 billion  for \\nthe three months ended March 31, 2023 .\\n\\u2022As of March 31, 2023 , we had 190,711  employees, which includes almost all of the employees affected by \\nthe reduction of our workforce. We expect most of those affected will no longer be reflected in our \\nheadcount by the end of the second quarter of 2023, subject to local law and consultation requirements.Table of Contents Alphabet Inc.\\n34\",\n          \"Alphabet Inc.\\nCONSOLIDATED STATEMENTS OF COMPREHENSIVE INCOME\\n(in millions; unaudited)\\nThree Months Ended\\n March 31,\\n 2022 2023\\nNet income $ 16,436 $ 15,051 \\nOther comprehensive income (loss):\\nChange in foreign currency translation adjustment  39  596 \\nAvailable-for-sale investments:\\nChange in net unrealized gains (losses)  (2,478)  866 \\nLess: reclassification adjustment for net (gains) losses included in net \\nincome  148  292 \\nNet change, net of income tax benefit (expense) of $633  and $(330)  (2,330)  1,158 \\nCash flow hedges:\\nChange in net unrealized gains (losses)  114  (74) \\nLess: reclassification adjustment for net (gains) losses included in net \\nincome  (249)  (77) \\nNet change, net of income tax benefit (expense) of $44 and $30  (135)  (151) \\nOther comprehensive income (loss)  (2,426)  1,603 \\nComprehensive income $ 14,010 $ 16,654 \\nSee accompanying notes.Table of Contents Alphabet Inc.\\n7\",\n          \"Revenues by Geography\\nThe following table presents revenues by geography as a percentage of revenues, determined based on the \\naddresses of our customers:\\nThree Months Ended Six Months Ended\\n June 30, June 30,\\n 2022 2023 2022 2023\\nUnited States  47 %  47 %  47 %  47 %\\nEMEA  29 %  30 %  30 %  30 %\\nAPAC  17 %  17 %  17 %  17 %\\nOther Americas  6 %  6 %  6 %  6 %\\nHedging gains (losses)  1 %  0 %  0 %  0 %\\nFor further details on revenues by geography, see Note 2  of the Notes to Consolidated Financial Statements \\nincluded in Item 1 of this Quarterly Report on Form 10-Q.\\nUse of Non-GAAP Constant Currency Information\\nInternational revenues, which represent a significant portion of our revenues, are generally transacted in \\nmultiple currencies and therefore are affected by fluctuations in foreign currency exchange rates.\\nThe effect of currency exchange rates on our business is an important factor in understanding period-to-period \\ncomparisons. We use non-GAAP constant currency revenues (\\\"constant currency revenues\\\") and non-GAAP \\npercentage change in constant currency revenues (\\\"percentage change in constant currency revenues\\\") for \\nfinancial and operational decision-making and as a means to evaluate period-to-period comparisons. We believe \\nthe presentation of results on a constant currency basis in addition to GAAP results helps improve the ability to \\nunderstand our performance, because it excludes the effects of foreign currency volatility that are not indicative of \\nour core operating results.\\nConstant currency information compares results between periods as if exchange rates had remained constant \\nperiod over period. We define constant currency revenues as revenues excluding the effect of foreign currency \\nexchange rate movements (\\\"FX Effect\\\") as well as hedging activities, which are recognized at the consolidated \\nlevel. We use constant currency revenues to determine the constant currency revenue percentage change on a \\nyear-on-year basis. Constant currency revenues are calculated by translating current period revenues using prior \\nyear comparable period exchange rates, as well as excluding any hedging effects realized in the current period.\\nConstant currency revenue percentage change is calculated by determining the change in current period \\nrevenues over prior year comparable period revenues where current period foreign currency revenues are \\ntranslated using prior year comparable period exchange rates and hedging effects are excluded from revenues of \\nboth periods.\\nThese results should be considered in addition to, not as a substitute for, results reported in accordance with \\nGAAP. Results on a constant currency basis, as we present them, may not be comparable to similarly titled \\nmeasures used by other companies and are not a measure of performance presented in accordance with GAAP.Table of Contents Alphabet Inc.\\n40\"\n        ],\n        \"semantic_type\": \"\",\n        \"description\": \"\"\n      }\n    },\n    {\n      \"column\": \"embeddings\",\n      \"properties\": {\n        \"dtype\": \"object\",\n        \"semantic_type\": \"\",\n        \"description\": \"\"\n      }\n    }\n  ]\n}"
            }
          },
          "metadata": {},
          "execution_count": 29
        }
      ]
    },
    {
      "cell_type": "code",
      "source": [
        "from vertexai.language_models import TextEmbeddingInput, TextEmbeddingModel\n",
        "from typing import List\n",
        "import numpy as np\n",
        "\n",
        "\n",
        "def get_gemini_response(model, generation_config=None,\n",
        "                        safety_settings=None,\n",
        "                        uri_path=None,mime_type=None, prompt=None):\n",
        "  if not generation_config:\n",
        "    generation_config = {\n",
        "      \"max_output_tokens\": 8192,\n",
        "      \"temperature\": 1,\n",
        "      \"top_p\": 0.95,\n",
        "    }\n",
        "\n",
        "  if not safety_settings:\n",
        "    safety_settings = {\n",
        "        HarmCategory.HARM_CATEGORY_HATE_SPEECH: HarmBlockThreshold.BLOCK_ONLY_HIGH,\n",
        "        HarmCategory.HARM_CATEGORY_DANGEROUS_CONTENT: HarmBlockThreshold.BLOCK_ONLY_HIGH,\n",
        "        HarmCategory.HARM_CATEGORY_SEXUALLY_EXPLICIT: HarmBlockThreshold.BLOCK_ONLY_HIGH,\n",
        "        HarmCategory.HARM_CATEGORY_HARASSMENT: HarmBlockThreshold.BLOCK_ONLY_HIGH,\n",
        "    }\n",
        "\n",
        "  responses = model.generate_content(prompt,\n",
        "      generation_config=generation_config,\n",
        "      safety_settings=safety_settings,\n",
        "      stream=True,\n",
        "  )\n",
        "  final_response = []\n",
        "  for response in responses:\n",
        "    try:\n",
        "      final_response.append(response.text)\n",
        "    except ValueError:\n",
        "      # print(\"Something is blocked...\")\n",
        "      final_response.append(\"blocked\")\n",
        "\n",
        "  return \"\".join(final_response)\n",
        "\n",
        "\n",
        "def get_cosine_score(\n",
        "    dataframe: pd.DataFrame, column_name: str, input_text_embd: np.ndarray\n",
        ") -> float:\n",
        "    \"\"\"\n",
        "    Calculates the cosine similarity between the user query embedding and the dataframe embedding for a specific column.\n",
        "\n",
        "    Args:\n",
        "        dataframe: The pandas DataFrame containing the data to compare against.\n",
        "        column_name: The name of the column containing the embeddings to compare with.\n",
        "        input_text_embd: The NumPy array representing the user query embedding.\n",
        "\n",
        "    Returns:\n",
        "        The cosine similarity score (rounded to two decimal places) between the user query embedding and the dataframe embedding.\n",
        "    \"\"\"\n",
        "    if dataframe[column_name]:\n",
        "      text_cosine_score = round(np.dot(dataframe[column_name], input_text_embd), 2)\n",
        "      return text_cosine_score\n",
        "    else:\n",
        "      return 0\n",
        "\n",
        "def get_answer(question,vector_db, model, top_n=5):\n",
        "  query_embedding = embed_text([question])\n",
        "  #Find score\n",
        "  cosine_scores = vector_db.apply(\n",
        "              lambda x: get_cosine_score(x, 'embeddings', query_embedding),\n",
        "              axis=1,\n",
        "          )\n",
        "  # print(len(cosine_scores))\n",
        "  # Remove same image comparison score when user image is matched exactly with metadata image\n",
        "  # cosine_scores = cosine_scores[cosine_scores < 1.00000000]\n",
        "  # Get top N cosine scores and their indices\n",
        "  top_n_cosine_scores = cosine_scores.nlargest(top_n).index.tolist()\n",
        "  top_n_cosine_values = cosine_scores.nlargest(top_n).values.tolist()\n",
        "\n",
        "  citations = vector_db.iloc[top_n_cosine_scores].copy()\n",
        "  # citations['score'] = top_n_cosine_scores\n",
        "  citations.loc[:, 'score'] = top_n_cosine_values\n",
        "  citations = citations[['text','score']]\n",
        "\n",
        "  # # print(citations)\n",
        "  # gemini_content = get_gemini_content_list(query, vector_db, top_n_cosine_scores)\n",
        "  context = \"\\n\".join(citations['text'].tolist())\n",
        "  prompt = f\"\"\" Task: Answer the question based on the provided context.\n",
        "\n",
        "Question: {question}\n",
        "\n",
        "Context: {context}\n",
        "\n",
        "Answer:\n",
        "\"\"\"\n",
        "  response  =  get_gemini_response(model=model, prompt=prompt)\n",
        "\n",
        "  return (response, context, citations.to_dict('records'), prompt)"
      ],
      "metadata": {
        "id": "pKK9FfmuJRG3"
      },
      "execution_count": 39,
      "outputs": []
    },
    {
      "cell_type": "code",
      "source": [
        "question = \"\"\"How does Alphabet's organizational structure aim to balance innovation with financial stability,\n",
        " particularly in the context of emerging technology investments?\"\"\""
      ],
      "metadata": {
        "id": "wVqRAu3pLBfm"
      },
      "execution_count": 40,
      "outputs": []
    },
    {
      "cell_type": "code",
      "source": [
        "%%time\n",
        "\n",
        "response, context, citations, prompt = get_answer(question,\n",
        "                                                            df,\n",
        "                                                            model)"
      ],
      "metadata": {
        "colab": {
          "base_uri": "https://localhost:8080/"
        },
        "id": "6NOEXThwMgkf",
        "outputId": "bee6ed15-b304-469d-fcd8-0ffe4efe1735"
      },
      "execution_count": 41,
      "outputs": [
        {
          "output_type": "stream",
          "name": "stdout",
          "text": [
            "CPU times: user 339 ms, sys: 39.5 ms, total: 379 ms\n",
            "Wall time: 32 s\n"
          ]
        }
      ]
    },
    {
      "cell_type": "code",
      "source": [
        "rich_Markdown(response)"
      ],
      "metadata": {
        "colab": {
          "base_uri": "https://localhost:8080/",
          "height": 81
        },
        "id": "AJ5IX4Q7OyOZ",
        "outputId": "a66226e7-d4ae-46de-8fae-0c081f106aeb"
      },
      "execution_count": 43,
      "outputs": [
        {
          "output_type": "execute_result",
          "data": {
            "text/plain": [
              "Alphabet's organizational structure, which consists of Google (Google Services and Google Cloud) and Other Bets,   \n",
              "aims to allow each of its businesses to prosper independently with strong leadership. This structure allows the    \n",
              "company to make big bets and pursue innovation (moonshots) while providing financial stability through its larger, \n",
              "more established businesses.                                                                                       \n"
            ],
            "text/html": [
              "<pre style=\"white-space:pre;overflow-x:auto;line-height:normal;font-family:Menlo,'DejaVu Sans Mono',consolas,'Courier New',monospace\">Alphabet's organizational structure, which consists of Google (Google Services and Google Cloud) and Other Bets,   \n",
              "aims to allow each of its businesses to prosper independently with strong leadership. This structure allows the    \n",
              "company to make big bets and pursue innovation (moonshots) while providing financial stability through its larger, \n",
              "more established businesses.                                                                                       \n",
              "</pre>\n"
            ]
          },
          "metadata": {},
          "execution_count": 43
        }
      ]
    },
    {
      "cell_type": "markdown",
      "source": [
        "## Basic RAG with Context Caching"
      ],
      "metadata": {
        "id": "t9s8QyyiX1Ho"
      }
    },
    {
      "cell_type": "code",
      "source": [
        "file_1 = \"gs://genai-asset/20230426-alphabet-10q.pdf\"\n",
        "file_2 = \"gs://genai-asset/goog-10-k-2023.pdf\"\n",
        "file_3 = \"gs://genai-asset/goog-10-q-q2-2023-4.pdf\"\n",
        "file_4 = \"gs://genai-asset/goog-10-q-q3-2023.pdf\"\n",
        "file_5 = \"gs://genai-asset/goog-10-k-q4-2022.pdf\""
      ],
      "metadata": {
        "id": "cCRd9miIYCxL"
      },
      "execution_count": 56,
      "outputs": []
    },
    {
      "cell_type": "code",
      "source": [
        "#The minimum token count to start caching is 32768."
      ],
      "metadata": {
        "id": "K4wvCQ5sdYZ4"
      },
      "execution_count": null,
      "outputs": []
    },
    {
      "cell_type": "code",
      "source": [
        "system_instructions = \"\"\"You are a helpful and informative AI assistant.\n",
        "You have been provided with a 10-K filing from a publicly traded company. Your task is to analyze the document and answer user questions about the company's business and financial performance.\n",
        "\n",
        "Here are some guidelines to follow:\n",
        "\n",
        "* **Focus on accuracy and evidence:** Your answers should be grounded in the information presented within the 10-K document. Cite specific sections or page numbers whenever possible to support your claims.\n",
        "* **Maintain neutrality and objectivity:** Avoid expressing personal opinions or making subjective judgments about the company or its prospects. Present the facts as they are stated in the filing.\n",
        "* **Acknowledge limitations:** If a question cannot be answered definitively from the 10-K, explain the limitations of the information and suggest possible alternative sources or data points that could be helpful.\n",
        "\"\"\""
      ],
      "metadata": {
        "id": "ih6-XQkudqDl"
      },
      "execution_count": null,
      "outputs": []
    },
    {
      "cell_type": "code",
      "source": [
        "%%time\n",
        "\n",
        "contents = [\n",
        "    Part.from_uri(\n",
        "        file_1,\n",
        "        mime_type=\"application/pdf\",\n",
        "    ),\n",
        "    Part.from_uri(\n",
        "        file_2,\n",
        "        mime_type=\"application/pdf\",\n",
        "    ),\n",
        "]\n",
        "\n",
        "cached_content_file1_2 = caching.CachedContent.create(\n",
        "    model_name=MODEL_ID,\n",
        "    system_instruction=system_instructions,\n",
        "    contents=contents,\n",
        "    ttl=datetime.timedelta(minutes=60),\n",
        ")"
      ],
      "metadata": {
        "colab": {
          "base_uri": "https://localhost:8080/"
        },
        "id": "6Cm2LTiAdYW4",
        "outputId": "bdfc43c7-208b-49fc-cf80-e4db9e2ce173"
      },
      "execution_count": 59,
      "outputs": [
        {
          "output_type": "stream",
          "name": "stdout",
          "text": [
            "CPU times: user 156 ms, sys: 34.5 ms, total: 190 ms\n",
            "Wall time: 20 s\n"
          ]
        }
      ]
    },
    {
      "cell_type": "code",
      "source": [
        "%%time\n",
        "\n",
        "contents = [\n",
        "    Part.from_uri(\n",
        "        file_3,\n",
        "        mime_type=\"application/pdf\",\n",
        "    ),\n",
        "    Part.from_uri(\n",
        "        file_4,\n",
        "        mime_type=\"application/pdf\",\n",
        "    ),\n",
        "    Part.from_uri(\n",
        "        file_5,\n",
        "        mime_type=\"application/pdf\",\n",
        "    )\n",
        "]\n",
        "\n",
        "cached_content_file3_4_5 = caching.CachedContent.create(\n",
        "    model_name=MODEL_ID,\n",
        "    system_instruction=system_instructions,\n",
        "    contents=contents,\n",
        "    ttl=datetime.timedelta(minutes=60),\n",
        ")"
      ],
      "metadata": {
        "colab": {
          "base_uri": "https://localhost:8080/"
        },
        "id": "ujWfdKbOddvD",
        "outputId": "d7290cc9-3846-4133-84b5-ee9c3bdec683"
      },
      "execution_count": 57,
      "outputs": [
        {
          "output_type": "stream",
          "name": "stdout",
          "text": [
            "CPU times: user 999 ms, sys: 174 ms, total: 1.17 s\n",
            "Wall time: 2min 29s\n"
          ]
        }
      ]
    },
    {
      "cell_type": "code",
      "source": [
        "cache_mapping = {\n",
        "    \"20230426-alphabet-10q.pdf\": cached_content_file1_2,\n",
        "    \"goog-10-k-2023.pdf\": cached_content_file1_2,\n",
        "    \"goog-10-q-q2-2023-4.pdf\": cached_content_file3_4_5,\n",
        "    \"goog-10-q-q3-2023.pdf\": cached_content_file3_4_5,\n",
        "    \"goog-10-k-q4-2022.pdf\": cached_content_file3_4_5\n",
        "}"
      ],
      "metadata": {
        "id": "AyJi_oAqddq7"
      },
      "execution_count": 58,
      "outputs": []
    },
    {
      "cell_type": "code",
      "source": [
        "def get_answer_with_context_cache(question,vector_db, model, top_n=5):\n",
        "  query_embedding = embed_text([question])\n",
        "  #Find score\n",
        "  cosine_scores = vector_db.apply(\n",
        "              lambda x: get_cosine_score(x, 'embeddings', query_embedding),\n",
        "              axis=1,\n",
        "          )\n",
        "  # print(len(cosine_scores))\n",
        "  # Remove same image comparison score when user image is matched exactly with metadata image\n",
        "  # cosine_scores = cosine_scores[cosine_scores < 1.00000000]\n",
        "  # Get top N cosine scores and their indices\n",
        "  top_n_cosine_scores = cosine_scores.nlargest(top_n).index.tolist()\n",
        "  top_n_cosine_values = cosine_scores.nlargest(top_n).values.tolist()\n",
        "\n",
        "  citations = vector_db.iloc[top_n_cosine_scores].copy()\n",
        "  # citations['score'] = top_n_cosine_scores\n",
        "  citations.loc[:, 'score'] = top_n_cosine_values\n",
        "  citations = citations[['file_name','text','score']]\n",
        "\n",
        "  # get the top file_name\n",
        "  file_name = citations['file_name'].value_counts().index[0]\n",
        "\n",
        "  # load the model with pre-defined cached\n",
        "  cached_content = cache_mapping[file_name]\n",
        "  model = GenerativeModel.from_cached_content(cached_content=cached_content)\n",
        "\n",
        "  # call the model\n",
        "  response = model.generate_content(\n",
        "    question\n",
        ")\n",
        "\n",
        "  return citations, response.text"
      ],
      "metadata": {
        "id": "m_jitMkdX0zS"
      },
      "execution_count": 87,
      "outputs": []
    },
    {
      "cell_type": "code",
      "source": [
        "question = \"\"\"How does Alphabet's organizational structure aim to balance innovation with financial stability,\n",
        " particularly in the context of emerging technology investments?\"\"\""
      ],
      "metadata": {
        "id": "RaeNl0tBfPA7"
      },
      "execution_count": 88,
      "outputs": []
    },
    {
      "cell_type": "code",
      "source": [
        "%%time\n",
        "\n",
        "citations, response = get_answer_with_context_cache(question,df,\n",
        "                      model, top_n=3)"
      ],
      "metadata": {
        "id": "cq0AKQAXfRCv"
      },
      "execution_count": 93,
      "outputs": []
    },
    {
      "cell_type": "code",
      "source": [
        "citations"
      ],
      "metadata": {
        "colab": {
          "base_uri": "https://localhost:8080/",
          "height": 143
        },
        "id": "o5kdWMQzgqiH",
        "outputId": "09fec606-2e7c-4604-cf02-c1ae59be9357"
      },
      "execution_count": 90,
      "outputs": [
        {
          "output_type": "execute_result",
          "data": {
            "text/plain": [
              "             file_name                                               text  \\\n",
              "50  goog-10-k-2023.pdf  •the expected timing, amount, and effect of Al...   \n",
              "54  goog-10-k-2023.pdf  •Collaboration Tools:  Google Workspace and Du...   \n",
              "70  goog-10-k-2023.pdf  •liability for activities of the acquired comp...   \n",
              "\n",
              "    score  \n",
              "50   0.75  \n",
              "54   0.74  \n",
              "70   0.74  "
            ],
            "text/html": [
              "\n",
              "  <div id=\"df-06091e29-12d9-4ac1-ad25-d89da8ed8e91\" class=\"colab-df-container\">\n",
              "    <div>\n",
              "<style scoped>\n",
              "    .dataframe tbody tr th:only-of-type {\n",
              "        vertical-align: middle;\n",
              "    }\n",
              "\n",
              "    .dataframe tbody tr th {\n",
              "        vertical-align: top;\n",
              "    }\n",
              "\n",
              "    .dataframe thead th {\n",
              "        text-align: right;\n",
              "    }\n",
              "</style>\n",
              "<table border=\"1\" class=\"dataframe\">\n",
              "  <thead>\n",
              "    <tr style=\"text-align: right;\">\n",
              "      <th></th>\n",
              "      <th>file_name</th>\n",
              "      <th>text</th>\n",
              "      <th>score</th>\n",
              "    </tr>\n",
              "  </thead>\n",
              "  <tbody>\n",
              "    <tr>\n",
              "      <th>50</th>\n",
              "      <td>goog-10-k-2023.pdf</td>\n",
              "      <td>•the expected timing, amount, and effect of Al...</td>\n",
              "      <td>0.75</td>\n",
              "    </tr>\n",
              "    <tr>\n",
              "      <th>54</th>\n",
              "      <td>goog-10-k-2023.pdf</td>\n",
              "      <td>•Collaboration Tools:  Google Workspace and Du...</td>\n",
              "      <td>0.74</td>\n",
              "    </tr>\n",
              "    <tr>\n",
              "      <th>70</th>\n",
              "      <td>goog-10-k-2023.pdf</td>\n",
              "      <td>•liability for activities of the acquired comp...</td>\n",
              "      <td>0.74</td>\n",
              "    </tr>\n",
              "  </tbody>\n",
              "</table>\n",
              "</div>\n",
              "    <div class=\"colab-df-buttons\">\n",
              "\n",
              "  <div class=\"colab-df-container\">\n",
              "    <button class=\"colab-df-convert\" onclick=\"convertToInteractive('df-06091e29-12d9-4ac1-ad25-d89da8ed8e91')\"\n",
              "            title=\"Convert this dataframe to an interactive table.\"\n",
              "            style=\"display:none;\">\n",
              "\n",
              "  <svg xmlns=\"http://www.w3.org/2000/svg\" height=\"24px\" viewBox=\"0 -960 960 960\">\n",
              "    <path d=\"M120-120v-720h720v720H120Zm60-500h600v-160H180v160Zm220 220h160v-160H400v160Zm0 220h160v-160H400v160ZM180-400h160v-160H180v160Zm440 0h160v-160H620v160ZM180-180h160v-160H180v160Zm440 0h160v-160H620v160Z\"/>\n",
              "  </svg>\n",
              "    </button>\n",
              "\n",
              "  <style>\n",
              "    .colab-df-container {\n",
              "      display:flex;\n",
              "      gap: 12px;\n",
              "    }\n",
              "\n",
              "    .colab-df-convert {\n",
              "      background-color: #E8F0FE;\n",
              "      border: none;\n",
              "      border-radius: 50%;\n",
              "      cursor: pointer;\n",
              "      display: none;\n",
              "      fill: #1967D2;\n",
              "      height: 32px;\n",
              "      padding: 0 0 0 0;\n",
              "      width: 32px;\n",
              "    }\n",
              "\n",
              "    .colab-df-convert:hover {\n",
              "      background-color: #E2EBFA;\n",
              "      box-shadow: 0px 1px 2px rgba(60, 64, 67, 0.3), 0px 1px 3px 1px rgba(60, 64, 67, 0.15);\n",
              "      fill: #174EA6;\n",
              "    }\n",
              "\n",
              "    .colab-df-buttons div {\n",
              "      margin-bottom: 4px;\n",
              "    }\n",
              "\n",
              "    [theme=dark] .colab-df-convert {\n",
              "      background-color: #3B4455;\n",
              "      fill: #D2E3FC;\n",
              "    }\n",
              "\n",
              "    [theme=dark] .colab-df-convert:hover {\n",
              "      background-color: #434B5C;\n",
              "      box-shadow: 0px 1px 3px 1px rgba(0, 0, 0, 0.15);\n",
              "      filter: drop-shadow(0px 1px 2px rgba(0, 0, 0, 0.3));\n",
              "      fill: #FFFFFF;\n",
              "    }\n",
              "  </style>\n",
              "\n",
              "    <script>\n",
              "      const buttonEl =\n",
              "        document.querySelector('#df-06091e29-12d9-4ac1-ad25-d89da8ed8e91 button.colab-df-convert');\n",
              "      buttonEl.style.display =\n",
              "        google.colab.kernel.accessAllowed ? 'block' : 'none';\n",
              "\n",
              "      async function convertToInteractive(key) {\n",
              "        const element = document.querySelector('#df-06091e29-12d9-4ac1-ad25-d89da8ed8e91');\n",
              "        const dataTable =\n",
              "          await google.colab.kernel.invokeFunction('convertToInteractive',\n",
              "                                                    [key], {});\n",
              "        if (!dataTable) return;\n",
              "\n",
              "        const docLinkHtml = 'Like what you see? Visit the ' +\n",
              "          '<a target=\"_blank\" href=https://colab.research.google.com/notebooks/data_table.ipynb>data table notebook</a>'\n",
              "          + ' to learn more about interactive tables.';\n",
              "        element.innerHTML = '';\n",
              "        dataTable['output_type'] = 'display_data';\n",
              "        await google.colab.output.renderOutput(dataTable, element);\n",
              "        const docLink = document.createElement('div');\n",
              "        docLink.innerHTML = docLinkHtml;\n",
              "        element.appendChild(docLink);\n",
              "      }\n",
              "    </script>\n",
              "  </div>\n",
              "\n",
              "\n",
              "<div id=\"df-c30f9396-1ce3-404e-8c1b-b971fb4aa3c7\">\n",
              "  <button class=\"colab-df-quickchart\" onclick=\"quickchart('df-c30f9396-1ce3-404e-8c1b-b971fb4aa3c7')\"\n",
              "            title=\"Suggest charts\"\n",
              "            style=\"display:none;\">\n",
              "\n",
              "<svg xmlns=\"http://www.w3.org/2000/svg\" height=\"24px\"viewBox=\"0 0 24 24\"\n",
              "     width=\"24px\">\n",
              "    <g>\n",
              "        <path d=\"M19 3H5c-1.1 0-2 .9-2 2v14c0 1.1.9 2 2 2h14c1.1 0 2-.9 2-2V5c0-1.1-.9-2-2-2zM9 17H7v-7h2v7zm4 0h-2V7h2v10zm4 0h-2v-4h2v4z\"/>\n",
              "    </g>\n",
              "</svg>\n",
              "  </button>\n",
              "\n",
              "<style>\n",
              "  .colab-df-quickchart {\n",
              "      --bg-color: #E8F0FE;\n",
              "      --fill-color: #1967D2;\n",
              "      --hover-bg-color: #E2EBFA;\n",
              "      --hover-fill-color: #174EA6;\n",
              "      --disabled-fill-color: #AAA;\n",
              "      --disabled-bg-color: #DDD;\n",
              "  }\n",
              "\n",
              "  [theme=dark] .colab-df-quickchart {\n",
              "      --bg-color: #3B4455;\n",
              "      --fill-color: #D2E3FC;\n",
              "      --hover-bg-color: #434B5C;\n",
              "      --hover-fill-color: #FFFFFF;\n",
              "      --disabled-bg-color: #3B4455;\n",
              "      --disabled-fill-color: #666;\n",
              "  }\n",
              "\n",
              "  .colab-df-quickchart {\n",
              "    background-color: var(--bg-color);\n",
              "    border: none;\n",
              "    border-radius: 50%;\n",
              "    cursor: pointer;\n",
              "    display: none;\n",
              "    fill: var(--fill-color);\n",
              "    height: 32px;\n",
              "    padding: 0;\n",
              "    width: 32px;\n",
              "  }\n",
              "\n",
              "  .colab-df-quickchart:hover {\n",
              "    background-color: var(--hover-bg-color);\n",
              "    box-shadow: 0 1px 2px rgba(60, 64, 67, 0.3), 0 1px 3px 1px rgba(60, 64, 67, 0.15);\n",
              "    fill: var(--button-hover-fill-color);\n",
              "  }\n",
              "\n",
              "  .colab-df-quickchart-complete:disabled,\n",
              "  .colab-df-quickchart-complete:disabled:hover {\n",
              "    background-color: var(--disabled-bg-color);\n",
              "    fill: var(--disabled-fill-color);\n",
              "    box-shadow: none;\n",
              "  }\n",
              "\n",
              "  .colab-df-spinner {\n",
              "    border: 2px solid var(--fill-color);\n",
              "    border-color: transparent;\n",
              "    border-bottom-color: var(--fill-color);\n",
              "    animation:\n",
              "      spin 1s steps(1) infinite;\n",
              "  }\n",
              "\n",
              "  @keyframes spin {\n",
              "    0% {\n",
              "      border-color: transparent;\n",
              "      border-bottom-color: var(--fill-color);\n",
              "      border-left-color: var(--fill-color);\n",
              "    }\n",
              "    20% {\n",
              "      border-color: transparent;\n",
              "      border-left-color: var(--fill-color);\n",
              "      border-top-color: var(--fill-color);\n",
              "    }\n",
              "    30% {\n",
              "      border-color: transparent;\n",
              "      border-left-color: var(--fill-color);\n",
              "      border-top-color: var(--fill-color);\n",
              "      border-right-color: var(--fill-color);\n",
              "    }\n",
              "    40% {\n",
              "      border-color: transparent;\n",
              "      border-right-color: var(--fill-color);\n",
              "      border-top-color: var(--fill-color);\n",
              "    }\n",
              "    60% {\n",
              "      border-color: transparent;\n",
              "      border-right-color: var(--fill-color);\n",
              "    }\n",
              "    80% {\n",
              "      border-color: transparent;\n",
              "      border-right-color: var(--fill-color);\n",
              "      border-bottom-color: var(--fill-color);\n",
              "    }\n",
              "    90% {\n",
              "      border-color: transparent;\n",
              "      border-bottom-color: var(--fill-color);\n",
              "    }\n",
              "  }\n",
              "</style>\n",
              "\n",
              "  <script>\n",
              "    async function quickchart(key) {\n",
              "      const quickchartButtonEl =\n",
              "        document.querySelector('#' + key + ' button');\n",
              "      quickchartButtonEl.disabled = true;  // To prevent multiple clicks.\n",
              "      quickchartButtonEl.classList.add('colab-df-spinner');\n",
              "      try {\n",
              "        const charts = await google.colab.kernel.invokeFunction(\n",
              "            'suggestCharts', [key], {});\n",
              "      } catch (error) {\n",
              "        console.error('Error during call to suggestCharts:', error);\n",
              "      }\n",
              "      quickchartButtonEl.classList.remove('colab-df-spinner');\n",
              "      quickchartButtonEl.classList.add('colab-df-quickchart-complete');\n",
              "    }\n",
              "    (() => {\n",
              "      let quickchartButtonEl =\n",
              "        document.querySelector('#df-c30f9396-1ce3-404e-8c1b-b971fb4aa3c7 button');\n",
              "      quickchartButtonEl.style.display =\n",
              "        google.colab.kernel.accessAllowed ? 'block' : 'none';\n",
              "    })();\n",
              "  </script>\n",
              "</div>\n",
              "\n",
              "  <div id=\"id_842eff72-9af7-4246-9bbc-87a19673030a\">\n",
              "    <style>\n",
              "      .colab-df-generate {\n",
              "        background-color: #E8F0FE;\n",
              "        border: none;\n",
              "        border-radius: 50%;\n",
              "        cursor: pointer;\n",
              "        display: none;\n",
              "        fill: #1967D2;\n",
              "        height: 32px;\n",
              "        padding: 0 0 0 0;\n",
              "        width: 32px;\n",
              "      }\n",
              "\n",
              "      .colab-df-generate:hover {\n",
              "        background-color: #E2EBFA;\n",
              "        box-shadow: 0px 1px 2px rgba(60, 64, 67, 0.3), 0px 1px 3px 1px rgba(60, 64, 67, 0.15);\n",
              "        fill: #174EA6;\n",
              "      }\n",
              "\n",
              "      [theme=dark] .colab-df-generate {\n",
              "        background-color: #3B4455;\n",
              "        fill: #D2E3FC;\n",
              "      }\n",
              "\n",
              "      [theme=dark] .colab-df-generate:hover {\n",
              "        background-color: #434B5C;\n",
              "        box-shadow: 0px 1px 3px 1px rgba(0, 0, 0, 0.15);\n",
              "        filter: drop-shadow(0px 1px 2px rgba(0, 0, 0, 0.3));\n",
              "        fill: #FFFFFF;\n",
              "      }\n",
              "    </style>\n",
              "    <button class=\"colab-df-generate\" onclick=\"generateWithVariable('citations')\"\n",
              "            title=\"Generate code using this dataframe.\"\n",
              "            style=\"display:none;\">\n",
              "\n",
              "  <svg xmlns=\"http://www.w3.org/2000/svg\" height=\"24px\"viewBox=\"0 0 24 24\"\n",
              "       width=\"24px\">\n",
              "    <path d=\"M7,19H8.4L18.45,9,17,7.55,7,17.6ZM5,21V16.75L18.45,3.32a2,2,0,0,1,2.83,0l1.4,1.43a1.91,1.91,0,0,1,.58,1.4,1.91,1.91,0,0,1-.58,1.4L9.25,21ZM18.45,9,17,7.55Zm-12,3A5.31,5.31,0,0,0,4.9,8.1,5.31,5.31,0,0,0,1,6.5,5.31,5.31,0,0,0,4.9,4.9,5.31,5.31,0,0,0,6.5,1,5.31,5.31,0,0,0,8.1,4.9,5.31,5.31,0,0,0,12,6.5,5.46,5.46,0,0,0,6.5,12Z\"/>\n",
              "  </svg>\n",
              "    </button>\n",
              "    <script>\n",
              "      (() => {\n",
              "      const buttonEl =\n",
              "        document.querySelector('#id_842eff72-9af7-4246-9bbc-87a19673030a button.colab-df-generate');\n",
              "      buttonEl.style.display =\n",
              "        google.colab.kernel.accessAllowed ? 'block' : 'none';\n",
              "\n",
              "      buttonEl.onclick = () => {\n",
              "        google.colab.notebook.generateWithVariable('citations');\n",
              "      }\n",
              "      })();\n",
              "    </script>\n",
              "  </div>\n",
              "\n",
              "    </div>\n",
              "  </div>\n"
            ],
            "application/vnd.google.colaboratory.intrinsic+json": {
              "type": "dataframe",
              "variable_name": "citations",
              "summary": "{\n  \"name\": \"citations\",\n  \"rows\": 3,\n  \"fields\": [\n    {\n      \"column\": \"file_name\",\n      \"properties\": {\n        \"dtype\": \"category\",\n        \"num_unique_values\": 1,\n        \"samples\": [\n          \"goog-10-k-2023.pdf\"\n        ],\n        \"semantic_type\": \"\",\n        \"description\": \"\"\n      }\n    },\n    {\n      \"column\": \"text\",\n      \"properties\": {\n        \"dtype\": \"string\",\n        \"num_unique_values\": 3,\n        \"samples\": [\n          \"\\u2022the expected timing, amount, and effect of Alphabet Inc.'s share repurchases;\\n\\u2022our long-term sustainability and diversity goals;\\nas well as other statements regarding our future operations, financial condition and prospects, and business strategies. \\nForward-looking statements may appear throughout this report and other documents we file with the Securities and \\nExchange Commission (SEC), including without limitation, the following sections: Part I, Item 1 \\\"Business;\\\" Part I, Item \\n1A \\\"Risk Factors;\\\" and Part II, Item 7 \\\"Management\\u2019s Discussion and Analysis of Financial Condition and Results of \\nOperations.\\\" Forward-looking statements generally can be identified by words such as \\\"anticipates,\\\" \\\"believes,\\\" \\n\\\"could,\\\" \\\"estimates,\\\" \\\"expects,\\\" \\\"intends,\\\" \\\"may,\\\" \\\"plans,\\\" \\\"predicts,\\\" \\\"projects,\\\" \\\"will be,\\\" \\\"will continue,\\\" \\\"will likely \\nresult,\\\" and similar expressions. These forward-looking statements are based on current expectations and \\nassumptions that are subject to risks and uncertainties, which could cause our actual results to differ materially from \\nthose reflected in the forward-looking statements. Factors that could cause or contribute to such differences include, \\nbut are not limited to, those discussed in this Annual Report on Form 10-K, including the risks discussed in Part I, Item \\n1A \\\"Risk Factors\\\" and the trends discussed in Part II, Item 7 \\\"Management's Discussion and Analysis of Financial \\nCondition and Results of Operations,\\\" and those discussed in other documents we file with the SEC. We undertake no \\nobligation to revise or publicly release the results of any revision to these forward-looking statements, except as \\nrequired by law. Given these risks and uncertainties, readers are cautioned not to place undue reliance on such \\nforward-looking statements.\\nAs used herein, \\\"Alphabet,\\\" \\\"the company,\\\" \\\"we,\\\" \\\"us,\\\" \\\"our,\\\" and similar terms include Alphabet Inc. and its \\nsubsidiaries, unless the context indicates otherwise.\\n\\\"Alphabet,\\\" \\\"Google,\\\" and other trademarks of ours appearing in this report are our property. We do not intend our \\nuse or display of other companies' trade names or trademarks to imply an endorsement or sponsorship of us by such \\ncompanies, or any relationship with any of these companies.\\nPART I\\nITEM 1. BUSINESS\\nOverview\\nAs our founders Larry and Sergey wrote in the original founders' letter, \\\"Google is not a conventional company. \\nWe do not intend to become one.\\\" That unconventional spirit has been a driving force throughout our history, inspiring \\nus to tackle big problems and invest in moonshots . It led us to be a pioneer in the development of AI and, since 2016, \\nan AI-first company. We continue this work under the leadership of Alphabet and Google CEO, Sundar Pichai.\\nAlphabet is a collection of businesses \\u2014 the largest of which is Google. We report Google in two segments, \\nGoogle Services  and Google Cloud, and all non-Google businesses collectively as Other Bets. Alphabet's structure is \\nabout helping each of our businesses prosper through strong leaders and independence. \\nAccess and Technology for Everyone\\nThe Internet is one of the world\\u2019s most powerful equalizers; it propels ideas, people, and businesses large and \\nsmall. Our mission to organize the world\\u2019s information and make it universally accessible and useful is as relevant \\ntoday as it was when we were founded in 1998. Since then, we have evolved from a company that helps people find \\nanswers to a company that also helps people get things done. \\nWe are focused on building an even more helpful Google for everyone, and we aspire to give everyone the tools \\nthey need to increase their knowledge, health, happiness, and success. Google Search  helps people find information \\nand make sense of the world in more natural and intuitive ways, with trillions of searches on Google every year. \\nYouTube provides people with entertainment, information, and opportunities to learn something new. Google Assistant \\noffers the best way to get things done seamlessly across different devices, providing intelligent help throughout a \\nperson's day, no matter where they are. Google Cloud helps customers solve today\\u2019s business challenges, improve \\nproductivity, reduce costs, and unlock new growth engines. We are continually innovating and building new products \\nand features that will help our users, partners, customers, and communities and have invested more than $150 billion \\nin research and development in the last five years in support of these efforts .\\nMaking AI H elpful for Everyone\\nAI is a transformational technology that can bring meaningful and positive change to people and societies across \\nthe world, and for our business. At Google, we have been bringing AI into our products and services for more than a \\ndecade and making them available to our users. Our journey began in 2001, when machine learning was first \\nincorporated into Google Search to suggest better spellings to users searching the web. Today, AI in our products is Table of Contents Alphabet Inc.\\n4.  \"\n        ],\n        \"semantic_type\": \"\",\n        \"description\": \"\"\n      }\n    },\n    {\n      \"column\": \"score\",\n      \"properties\": {\n        \"dtype\": \"number\",\n        \"std\": 0.005773502691896262,\n        \"min\": 0.74,\n        \"max\": 0.75,\n        \"num_unique_values\": 2,\n        \"samples\": [\n          0.74\n        ],\n        \"semantic_type\": \"\",\n        \"description\": \"\"\n      }\n    }\n  ]\n}"
            }
          },
          "metadata": {},
          "execution_count": 90
        }
      ]
    },
    {
      "cell_type": "code",
      "source": [
        "rich_Markdown(response)"
      ],
      "metadata": {
        "colab": {
          "base_uri": "https://localhost:8080/",
          "height": 337
        },
        "id": "QiSYqnDPhmrb",
        "outputId": "36d6f4a8-6955-41e9-bc48-bc39346f233f"
      },
      "execution_count": 92,
      "outputs": [
        {
          "output_type": "execute_result",
          "data": {
            "text/plain": [
              "Alphabet's organizational structure seeks to balance innovation and financial stability through a two-pronged      \n",
              "approach:                                                                                                          \n",
              "\n",
              "\u001b[1;33m 1 \u001b[0m\u001b[1mStrong Leadership and Independence:\u001b[0m As stated in the \"Overview\" section of the 10-K (Item 1, page 4), Alphabet's\n",
              "\u001b[1;33m   \u001b[0mstructure aims to allow its various businesses \"to prosper through strong leaders and independence.\"  This means\n",
              "\u001b[1;33m   \u001b[0meach subsidiary, including Google, Other Bets, and Google Cloud, operates with a degree of autonomy under its   \n",
              "\u001b[1;33m   \u001b[0mown leadership. This allows for agility and focused innovation within each specific area.                       \n",
              "\u001b[1;33m 2 \u001b[0m\u001b[1mSegment Reporting and Resource Allocation:\u001b[0m  Alphabet utilizes segment reporting (Note 15, page 86) to provide   \n",
              "\u001b[1;33m   \u001b[0mtransparency into the financial performance of its core businesses: Google Services, Google Cloud, and Other    \n",
              "\u001b[1;33m   \u001b[0mBets. This allows the company to track the financial health of its established revenue-generating segments      \n",
              "\u001b[1;33m   \u001b[0m(primarily Google Services) while allowing for investment in potentially high-growth but less profitable        \n",
              "\u001b[1;33m   \u001b[0msegments like Google Cloud and Other Bets.  While some shared costs are allocated across segments,  others \"are \n",
              "\u001b[1;33m   \u001b[0mnot allocated to our segments because they represent Alphabet-level activities.\" These Alphabet-level activities\n",
              "\u001b[1;33m   \u001b[0moften represent higher-risk, higher-reward ventures like AI research and corporate initiatives.                 \n",
              "\n",
              "This approach allows Alphabet to generate substantial revenue from its core advertising business (Google Services) \n",
              "to fund investment in emerging technologies and potentially disruptive ventures (Google Cloud, Other Bets, AI      \n",
              "research) while maintaining financial oversight and accountability through segment reporting. The combination of   \n",
              "independent leadership within segments and strategic allocation of resources at the Alphabet level is designed to  \n",
              "foster both innovation and financial stability.                                                                    \n"
            ],
            "text/html": [
              "<pre style=\"white-space:pre;overflow-x:auto;line-height:normal;font-family:Menlo,'DejaVu Sans Mono',consolas,'Courier New',monospace\">Alphabet's organizational structure seeks to balance innovation and financial stability through a two-pronged      \n",
              "approach:                                                                                                          \n",
              "\n",
              "<span style=\"color: #808000; text-decoration-color: #808000; font-weight: bold\"> 1 </span><span style=\"font-weight: bold\">Strong Leadership and Independence:</span> As stated in the \"Overview\" section of the 10-K (Item 1, page 4), Alphabet's\n",
              "<span style=\"color: #808000; text-decoration-color: #808000; font-weight: bold\">   </span>structure aims to allow its various businesses \"to prosper through strong leaders and independence.\"  This means\n",
              "<span style=\"color: #808000; text-decoration-color: #808000; font-weight: bold\">   </span>each subsidiary, including Google, Other Bets, and Google Cloud, operates with a degree of autonomy under its   \n",
              "<span style=\"color: #808000; text-decoration-color: #808000; font-weight: bold\">   </span>own leadership. This allows for agility and focused innovation within each specific area.                       \n",
              "<span style=\"color: #808000; text-decoration-color: #808000; font-weight: bold\"> 2 </span><span style=\"font-weight: bold\">Segment Reporting and Resource Allocation:</span>  Alphabet utilizes segment reporting (Note 15, page 86) to provide   \n",
              "<span style=\"color: #808000; text-decoration-color: #808000; font-weight: bold\">   </span>transparency into the financial performance of its core businesses: Google Services, Google Cloud, and Other    \n",
              "<span style=\"color: #808000; text-decoration-color: #808000; font-weight: bold\">   </span>Bets. This allows the company to track the financial health of its established revenue-generating segments      \n",
              "<span style=\"color: #808000; text-decoration-color: #808000; font-weight: bold\">   </span>(primarily Google Services) while allowing for investment in potentially high-growth but less profitable        \n",
              "<span style=\"color: #808000; text-decoration-color: #808000; font-weight: bold\">   </span>segments like Google Cloud and Other Bets.  While some shared costs are allocated across segments,  others \"are \n",
              "<span style=\"color: #808000; text-decoration-color: #808000; font-weight: bold\">   </span>not allocated to our segments because they represent Alphabet-level activities.\" These Alphabet-level activities\n",
              "<span style=\"color: #808000; text-decoration-color: #808000; font-weight: bold\">   </span>often represent higher-risk, higher-reward ventures like AI research and corporate initiatives.                 \n",
              "\n",
              "This approach allows Alphabet to generate substantial revenue from its core advertising business (Google Services) \n",
              "to fund investment in emerging technologies and potentially disruptive ventures (Google Cloud, Other Bets, AI      \n",
              "research) while maintaining financial oversight and accountability through segment reporting. The combination of   \n",
              "independent leadership within segments and strategic allocation of resources at the Alphabet level is designed to  \n",
              "foster both innovation and financial stability.                                                                    \n",
              "</pre>\n"
            ]
          },
          "metadata": {},
          "execution_count": 92
        }
      ]
    }
  ],
  "metadata": {
    "colab": {
      "toc_visible": true,
      "provenance": []
    },
    "kernelspec": {
      "display_name": "Python 3",
      "name": "python3"
    }
  },
  "nbformat": 4,
  "nbformat_minor": 0
}